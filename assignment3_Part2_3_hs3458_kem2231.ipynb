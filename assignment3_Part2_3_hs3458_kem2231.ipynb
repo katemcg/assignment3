{
  "cells": [
    {
      "cell_type": "markdown",
      "metadata": {
        "id": "view-in-github",
        "colab_type": "text"
      },
      "source": [
        "<a href=\"https://colab.research.google.com/github/katemcg/assignment3/blob/main/assignment3_Part2_3_hs3458_kem2231.ipynb\" target=\"_parent\"><img src=\"https://colab.research.google.com/assets/colab-badge.svg\" alt=\"Open In Colab\"/></a>"
      ]
    },
    {
      "cell_type": "markdown",
      "metadata": {
        "id": "vVFTG0FjBykl"
      },
      "source": [
        "<p align=\"center\"><h1 align=\"center\">QMSS5074GR <br> Projects in Advanced Machine Learning <br>Spring 2024 <br> FINAL PROJECT <br>Assignment 3 Part 2 [GROUP Assignment]</h1>\n",
        "\n",
        "---\n",
        "<br>\n",
        "\n",
        "#### **Your Unis** : hs3458, kem2231\n",
        "#### **Your Full names** : Harini Sundararajan, Kate McGrath\n",
        "#### **Your AI Model Share Usernames**: harinisund, kem2231\n",
        "#### **Link to your Public Github repository** : https://github.com/katemcg/assignment3\n",
        "#### **Team member Contribution Percentages** : Fill here"
      ]
    },
    {
      "cell_type": "markdown",
      "source": [
        "The highest achievable marks are 120, with there being 20 extra credits. The overall distribution of marks is as follows:\n",
        "\n",
        "Part 1:\n",
        "EDA and basic ML models : [15 points]\n",
        "\n",
        "Part 2:\n",
        "Deep Learning Section: [60 Total possible]\n",
        "Recurrent models : 20 points\n",
        "3 other models (CNN and Transformers) : 22 points + 10 Extra credits\n",
        "Results : 8 points\n",
        "\n",
        "\n",
        "Github Section : [45 Total possible]\n",
        "Inference pipeline : 25 Points + 10 Extra credits\n",
        "Readme + Report : 10 points\n",
        "\n",
        "Heavy weightage (45 total possible marks) is assigned to the last section. Please be mindful of the time required to complete the last section as it is non-trivial and the most important part of the final project. Read instructions on how to score Zero marks and how to score 45 marks on this."
      ],
      "metadata": {
        "id": "34O15Pnn4qTr"
      }
    },
    {
      "cell_type": "markdown",
      "metadata": {
        "id": "JXxGTgJz152A"
      },
      "source": [
        "## Stanford Sentiment Treebank - Movie Review Classification Competition\n",
        "\n",
        "\n",
        "## **Instructions: [Total 85 Points for this part]**\n",
        "1.   Get data in and set up X_train / X_test / y_train\n",
        "2.   Preprocess data using keras Tokenizer/ Write and Save Preprocessor function\n",
        "3. Fit model on preprocessed data and save preprocessor function and model\n",
        "4. Generate predictions from X_test data and submit model to competition\n",
        "5. Repeat submission process to improve place on leaderboard\n",
        "\n"
      ]
    },
    {
      "cell_type": "markdown",
      "metadata": {
        "id": "5gSrVJwp3E9H"
      },
      "source": [
        "## 1. Get data in and set up X_train, X_test, y_train objects"
      ]
    },
    {
      "cell_type": "code",
      "execution_count": null,
      "metadata": {
        "id": "PLTIaMB3ChSW"
      },
      "outputs": [],
      "source": [
        "#install aimodelshare library\n",
        "! pip install aimodelshare"
      ]
    },
    {
      "cell_type": "code",
      "execution_count": null,
      "metadata": {
        "id": "d3PiJXBhC5y-",
        "outputId": "4760c273-2bdd-4103-9576-0d18e3ae83ca",
        "colab": {
          "base_uri": "https://localhost:8080/"
        }
      },
      "outputs": [
        {
          "output_type": "stream",
          "name": "stdout",
          "text": [
            "Warning: Please install pyspark to enable pyspark features\n",
            "Downloading [=============================================>   ]\n",
            "\n",
            "Data downloaded successfully.\n"
          ]
        }
      ],
      "source": [
        "# Get competition data\n",
        "from aimodelshare import download_data\n",
        "download_data('public.ecr.aws/y2e2a1d6/sst2_competition_data-repository:latest')"
      ]
    },
    {
      "cell_type": "code",
      "source": [
        "import re\n",
        "import string\n",
        "import numpy as np\n",
        "import random\n",
        "import pandas as pd\n",
        "import matplotlib.pyplot as plt\n",
        "import seaborn as sns\n",
        "%matplotlib inline\n",
        "from plotly import graph_objs as go\n",
        "import plotly.express as px\n",
        "import plotly.figure_factory as ff\n",
        "from collections import Counter\n",
        "\n",
        "from PIL import Image\n",
        "from wordcloud import WordCloud, STOPWORDS, ImageColorGenerator\n",
        "\n",
        "import nltk\n",
        "nltk.download('stopwords')\n",
        "from nltk.corpus import stopwords\n",
        "from nltk.tokenize import word_tokenize\n",
        "\n",
        "from tqdm import tqdm\n",
        "import os\n",
        "import nltk\n",
        "import spacy\n",
        "import random\n",
        "from spacy.util import compounding\n",
        "from spacy.util import minibatch\n",
        "\n",
        "from collections import defaultdict\n",
        "from collections import Counter\n",
        "\n",
        "import keras\n",
        "from keras.models import Sequential\n",
        "from keras.initializers import Constant\n",
        "from keras.layers import (LSTM,\n",
        "                          Embedding,\n",
        "                          BatchNormalization,\n",
        "                          Dense,\n",
        "                          TimeDistributed,\n",
        "                          Dropout,\n",
        "                          Bidirectional,\n",
        "                          Flatten,\n",
        "                          GlobalMaxPool1D)\n",
        "from keras.preprocessing.text import Tokenizer\n",
        "from keras.preprocessing.sequence import pad_sequences\n",
        "from keras.callbacks import ModelCheckpoint, ReduceLROnPlateau, EarlyStopping\n",
        "from keras.optimizers import Adam\n",
        "\n",
        "from sklearn.metrics import (\n",
        "    precision_score,\n",
        "    recall_score,\n",
        "    f1_score,\n",
        "    classification_report,\n",
        "    accuracy_score\n",
        ")"
      ],
      "metadata": {
        "id": "EBHtLyJlUIju",
        "outputId": "eb3c5cec-e08a-41b4-9414-74d16459cdbc",
        "colab": {
          "base_uri": "https://localhost:8080/"
        }
      },
      "execution_count": null,
      "outputs": [
        {
          "output_type": "stream",
          "name": "stderr",
          "text": [
            "[nltk_data] Downloading package stopwords to /root/nltk_data...\n",
            "[nltk_data]   Package stopwords is already up-to-date!\n"
          ]
        }
      ]
    },
    {
      "cell_type": "markdown",
      "source": [
        "## IMPORTANT NOTE\n",
        "This X_test has no relation to test_sample.csv\n",
        "This X_test (downloaded from above link) is for prediction and submission to aimodelshare only. You can create a validation split from the X_train here or during instatiating the model.\n",
        "\n",
        "The test_sample.csv is meant for only inference from your best 3 saved models, and is only meant to be used in the final front-end notebook (See last section, Note that it has a very high weightage in this assignment). Predicting the labels in correct format on this test_sample may also require you to change your preprocessing and transform code. Ensure you code it correctly and that your final front-end notebook can predict on it appropriately.\n",
        "\n",
        "None of the training code in this notebook will go into your python files in Github or your front-end notebook (See last cell instructions)"
      ],
      "metadata": {
        "id": "Icj99lQhr__W"
      }
    },
    {
      "cell_type": "code",
      "execution_count": 1,
      "metadata": {
        "id": "jT0qFCZFNzHq",
        "outputId": "7ddf2428-4c1c-460c-a9e4-b7931b7a8aed",
        "colab": {
          "base_uri": "https://localhost:8080/"
        }
      },
      "outputs": [
        {
          "output_type": "execute_result",
          "data": {
            "text/plain": [
              "0    The Rock is destined to be the 21st Century 's...\n",
              "1    The gorgeously elaborate continuation of `` Th...\n",
              "2    Singer/composer Bryan Adams contributes a slew...\n",
              "3                 Yet the act is still charming here .\n",
              "4    Whether or not you 're enlightened by any of D...\n",
              "Name: text, dtype: object"
            ]
          },
          "metadata": {},
          "execution_count": 1
        }
      ],
      "source": [
        "# Set up X_train, X_test, and y_train_labels objects\n",
        "import pandas as pd\n",
        "import warnings\n",
        "warnings.simplefilter(action='ignore', category=Warning)\n",
        "\n",
        "X_train=pd.read_csv(\"X_train.csv\")\n",
        "X_test=pd.read_csv(\"X_test.csv\")\n",
        "y_train_labels=pd.read_csv(\"y_train_labels.csv\")\n",
        "\n",
        "# Convert to series if your following preprocessor needs it\n",
        "def to_series(df):\n",
        "  if len(df.columns) == 1:\n",
        "    return(df.squeeze())\n",
        "\n",
        "X_train = to_series(X_train)\n",
        "X_test = to_series(X_test)\n",
        "y_train_labels = to_series(y_train_labels)\n",
        "\n",
        "# One hot encode encode Y data here\n",
        "y_train = pd.get_dummies(y_train_labels)\n",
        "\n",
        "X_train.head()"
      ]
    },
    {
      "cell_type": "markdown",
      "metadata": {
        "id": "gEzPoXPj3V7u"
      },
      "source": [
        "##2.   Preprocess data using keras tokenizer / Write and Save Preprocessor function\n"
      ]
    },
    {
      "cell_type": "code",
      "source": [
        "def remove_stopwords(text):\n",
        "    stop_words = stopwords.words('english')\n",
        "    text = ' '.join(word for word in text.split(' ') if word not in stop_words)\n",
        "    return text\n",
        "\n",
        "def clean_text(text):\n",
        "    '''Make text lowercase, remove text in square brackets,remove links,remove punctuation\n",
        "    and remove words containing numbers.'''\n",
        "    text = str(text).lower()\n",
        "    text = re.sub('\\[.*?\\]', '', text)\n",
        "    text = re.sub('https?://\\S+|www\\.\\S+', '', text)\n",
        "    text = re.sub('<.*?>+', '', text)\n",
        "    text = re.sub('[%s]' % re.escape(string.punctuation), '', text)\n",
        "    text = re.sub('\\n', '', text)\n",
        "    text = re.sub('\\w*\\d\\w*', '', text)\n",
        "    return text"
      ],
      "metadata": {
        "id": "uFEA4a7hT0Zg"
      },
      "execution_count": 2,
      "outputs": []
    },
    {
      "cell_type": "code",
      "execution_count": 3,
      "metadata": {
        "id": "16QV9Y9TC3B3",
        "outputId": "d82b8212-aaae-443e-d931-4cc2cb86c203",
        "colab": {
          "base_uri": "https://localhost:8080/"
        }
      },
      "outputs": [
        {
          "output_type": "stream",
          "name": "stdout",
          "text": [
            "(6920, 40)\n",
            "(1821, 40)\n"
          ]
        }
      ],
      "source": [
        "# This preprocessor function makes use of the tf.keras tokenizer\n",
        "\n",
        "from tensorflow import keras\n",
        "from tensorflow.keras.preprocessing.text import Tokenizer\n",
        "from tensorflow.keras.utils import pad_sequences\n",
        "import numpy as np\n",
        "import re\n",
        "import string\n",
        "from nltk.corpus import stopwords\n",
        "from nltk.tokenize import word_tokenize\n",
        "\n",
        "# [3 Pts]for this cell\n",
        "\n",
        "# Build vocabulary from training text data\n",
        "\n",
        "# preprocessor tokenizes words and makes sure all documents have the same length (perform padding with maxlen=40)\n",
        "\n",
        "def preprocessor(texts, maxlen=40):\n",
        "    \"\"\"\n",
        "    Preprocesses a list of texts using pre-defined functions to clean text and remove stopwords, tf.keras Tokenizer and pads sequences to a fixed length.\n",
        "\n",
        "    Args:\n",
        "    texts: List of strings representing input texts.\n",
        "    maxlen: Maximum length of sequences after padding, set to 40.\n",
        "\n",
        "    Returns:\n",
        "    padded_sequences: Numpy array of padded sequences.\n",
        "    tokenizer: Tokenizer object fitted on the input texts.\n",
        "    \"\"\"\n",
        "\n",
        "    texts = texts.apply(clean_text)\n",
        "\n",
        "    texts = texts.apply(remove_stopwords)\n",
        "\n",
        "    # Initialize Tokenizer\n",
        "    tokenizer = Tokenizer()\n",
        "\n",
        "    # Fit tokenizer on input texts\n",
        "    tokenizer.fit_on_texts(texts)\n",
        "\n",
        "    # Convert texts to sequences of integers\n",
        "    sequences = tokenizer.texts_to_sequences(texts)\n",
        "\n",
        "    # Pad sequences to a fixed length\n",
        "    padded_sequences = pad_sequences(sequences, maxlen)\n",
        "\n",
        "    return padded_sequences, tokenizer\n",
        "\n",
        "print(preprocessor(X_train)[0].shape)\n",
        "print(preprocessor(X_test)[0].shape)"
      ]
    },
    {
      "cell_type": "markdown",
      "metadata": {
        "id": "X52kECL43b-O"
      },
      "source": [
        "##3. Fit model on preprocessed data and save preprocessor function and model\n"
      ]
    },
    {
      "cell_type": "code",
      "execution_count": null,
      "metadata": {
        "id": "NCbBf8j9ClYl",
        "colab": {
          "base_uri": "https://localhost:8080/"
        },
        "outputId": "a4868693-8618-49aa-995e-058c1052b045"
      },
      "outputs": [
        {
          "output_type": "stream",
          "name": "stdout",
          "text": [
            "Epoch 1/30\n",
            "173/173 [==============================] - ETA: 0s - loss: 0.6755 - accuracy: 0.6096\n",
            "Epoch 00001: val_accuracy improved from -inf to 0.14884, saving model to model_checkpoint.h5\n",
            "173/173 [==============================] - 6s 26ms/step - loss: 0.6755 - accuracy: 0.6096 - val_loss: 0.8759 - val_accuracy: 0.1488 - lr: 0.0010\n",
            "Epoch 2/30\n",
            "172/173 [============================>.] - ETA: 0s - loss: 0.6115 - accuracy: 0.6533\n",
            "Epoch 00002: val_accuracy improved from 0.14884 to 0.68569, saving model to model_checkpoint.h5\n",
            "173/173 [==============================] - 3s 19ms/step - loss: 0.6117 - accuracy: 0.6535 - val_loss: 0.6326 - val_accuracy: 0.6857 - lr: 0.0010\n",
            "Epoch 3/30\n",
            "171/173 [============================>.] - ETA: 0s - loss: 0.2455 - accuracy: 0.9161\n",
            "Epoch 00003: val_accuracy improved from 0.68569 to 0.68786, saving model to model_checkpoint.h5\n",
            "173/173 [==============================] - 3s 18ms/step - loss: 0.2452 - accuracy: 0.9156 - val_loss: 0.7927 - val_accuracy: 0.6879 - lr: 0.0010\n",
            "Epoch 4/30\n",
            "173/173 [==============================] - ETA: 0s - loss: 0.0511 - accuracy: 0.9884\n",
            "Epoch 00004: val_accuracy did not improve from 0.68786\n",
            "173/173 [==============================] - 4s 22ms/step - loss: 0.0511 - accuracy: 0.9884 - val_loss: 1.2741 - val_accuracy: 0.6416 - lr: 0.0010\n",
            "Epoch 5/30\n",
            "173/173 [==============================] - ETA: 0s - loss: 0.0191 - accuracy: 0.9960\n",
            "Epoch 00005: ReduceLROnPlateau reducing learning rate to 0.00010000000474974513.\n",
            "\n",
            "Epoch 00005: val_accuracy did not improve from 0.68786\n",
            "173/173 [==============================] - 3s 20ms/step - loss: 0.0191 - accuracy: 0.9960 - val_loss: 1.6259 - val_accuracy: 0.6431 - lr: 0.0010\n",
            "Epoch 00005: early stopping\n"
          ]
        }
      ],
      "source": [
        "from tensorflow.keras.layers import Dense, Embedding,Flatten, Dropout\n",
        "from tensorflow.keras.models import Sequential\n",
        "from tensorflow.python.keras.callbacks import ModelCheckpoint, EarlyStopping, ReduceLROnPlateau\n",
        "from tensorflow.keras.optimizers import Adam\n",
        "\n",
        "padded_sequences, tokenizer = preprocessor(X_train)\n",
        "\n",
        "# A basic deep learning model (max 5 layers)  # [1 Pts]\n",
        "# Define the model architecture\n",
        "model = Sequential()\n",
        "model.add(Embedding(input_dim=len(tokenizer.word_index) + 1, output_dim=64, input_length=40))\n",
        "model.add(Flatten())\n",
        "model.add(Dense(32, activation='relu'))\n",
        "model.add(Dropout(0.5))\n",
        "model.add(Dense(16, activation='relu'))\n",
        "model.add(Dropout(0.5))\n",
        "model.add(Dense(2, activation='softmax'))\n",
        "\n",
        "# Compile the model\n",
        "model.compile(optimizer=Adam(learning_rate=0.001), loss='categorical_crossentropy', metrics=['accuracy'])\n",
        "\n",
        "# Callbacks\n",
        "checkpoint_path = \"model_checkpoint.h5\"\n",
        "\n",
        "red_lr = ReduceLROnPlateau(monitor='val_loss', patience=3, verbose=1, factor=0.1) # dividing lr by 10 when val_accuracy fails to improve after 3 epochs\n",
        "mod_check = ModelCheckpoint(filepath=checkpoint_path, monitor='val_accuracy', save_best_only=True, verbose=1)\n",
        "early_stop = EarlyStopping(monitor='val_loss', patience=3, verbose=1)\n",
        "\n",
        "# Fit the model with validation split\n",
        "history = model.fit(padded_sequences, y_train,\n",
        "                    batch_size=32, epochs=30, validation_split=0.2,\n",
        "                    callbacks = [red_lr, mod_check, early_stop])"
      ]
    },
    {
      "cell_type": "code",
      "source": [
        "# Plot history [1 Pts]\n",
        "import matplotlib.pyplot as plt\n",
        "\n",
        "# Plot training & validation loss values\n",
        "plt.plot(history.history['loss'])\n",
        "plt.plot(history.history['val_loss'])\n",
        "plt.title('Model loss')\n",
        "plt.xlabel('Epoch')\n",
        "plt.ylabel('Loss')\n",
        "plt.legend(['Train', 'Validation'], loc='upper right')\n",
        "plt.show()\n",
        "\n",
        "# Plot training & validation accuracy values\n",
        "plt.plot(history.history['accuracy'])\n",
        "plt.plot(history.history['val_accuracy'])\n",
        "plt.title('Model accuracy')\n",
        "plt.xlabel('Epoch')\n",
        "plt.ylabel('Accuracy')\n",
        "plt.legend(['Train', 'Validation'], loc='lower right')\n",
        "plt.show()"
      ],
      "metadata": {
        "id": "KAgqdiT1FBvO",
        "colab": {
          "base_uri": "https://localhost:8080/",
          "height": 927
        },
        "outputId": "203ea891-09f0-482d-f5c1-ea6cea16e47b"
      },
      "execution_count": null,
      "outputs": [
        {
          "output_type": "display_data",
          "data": {
            "text/plain": [
              "<Figure size 640x480 with 1 Axes>"
            ],
            "image/png": "[encoded data removed]"
          },
          "metadata": {}
        },
        {
          "output_type": "display_data",
          "data": {
            "text/plain": [
              "<Figure size 640x480 with 1 Axes>"
            ],
            "image/png": "[encoded data removed]"
          },
          "metadata": {}
        }
      ]
    },
    {
      "cell_type": "markdown",
      "metadata": {
        "id": "zmJAnmO-5AcU"
      },
      "source": [
        "#### Save preprocessor function to local \"preprocessor.zip\" file"
      ]
    },
    {
      "cell_type": "code",
      "execution_count": null,
      "metadata": {
        "id": "4VGacc0LDaMA",
        "colab": {
          "base_uri": "https://localhost:8080/"
        },
        "outputId": "2fb92fb8-0729-4011-fc9e-1a3c2f1d8324"
      },
      "outputs": [
        {
          "output_type": "stream",
          "name": "stdout",
          "text": [
            "[Errno 2] No such file or directory: 'preprocessor.zip/preprocessor.zip'\n",
            "Your preprocessor is now saved to 'preprocessor.zip'\n"
          ]
        }
      ],
      "source": [
        "import aimodelshare as ai\n",
        "ai.export_preprocessor(preprocessor,\"preprocessor.zip\")"
      ]
    },
    {
      "cell_type": "markdown",
      "metadata": {
        "id": "oOWBa8Cv5LdL"
      },
      "source": [
        "#### Save model to local \".onnx\" file"
      ]
    },
    {
      "cell_type": "code",
      "execution_count": null,
      "metadata": {
        "id": "pEhvnRiQDlY5"
      },
      "outputs": [],
      "source": [
        "# Save keras model to local ONNX file\n",
        "from aimodelshare.aimsonnx import model_to_onnx\n",
        "\n",
        "onnx_model = model_to_onnx(model, framework='keras',\n",
        "                           transfer_learning=False,\n",
        "                           deep_learning=True)\n",
        "\n",
        "with open(\"model.onnx\", \"wb\") as f:\n",
        "    f.write(onnx_model.SerializeToString())"
      ]
    },
    {
      "cell_type": "markdown",
      "metadata": {
        "id": "gHWkAzvX3m8O"
      },
      "source": [
        "## 4. Generate predictions from X_test data and submit model to competition\n"
      ]
    },
    {
      "cell_type": "code",
      "execution_count": null,
      "metadata": {
        "id": "RtgkM02MDpkO"
      },
      "outputs": [],
      "source": [
        "#Set credentials using modelshare.org username/password\n",
        "\n",
        "from aimodelshare.aws import set_credentials\n",
        "\n",
        "apiurl=\"https://rlxjxnoql9.execute-api.us-east-1.amazonaws.com/prod/m\" #This is the unique rest api that powers this specific Playground\n",
        "\n",
        "set_credentials(apiurl=apiurl)"
      ]
    },
    {
      "cell_type": "code",
      "execution_count": null,
      "metadata": {
        "id": "fKNGSww8EGgi"
      },
      "outputs": [],
      "source": [
        "#Instantiate Competition\n",
        "\n",
        "mycompetition= ai.Competition(apiurl)"
      ]
    },
    {
      "cell_type": "code",
      "execution_count": null,
      "metadata": {
        "id": "_Ql4wksyEUnP"
      },
      "outputs": [],
      "source": [
        "#Submit Model 1:\n",
        "\n",
        "# [1 Pts]\n",
        "\n",
        "#-- Generate predicted y values on x_test (Model 1)\n",
        "prediction_labels = model.predict(preprocessor(X_test))\n",
        "\n",
        "# extract correct prediction labels\n",
        "model_filepath = \"model.onnx\"\n",
        "preprocessor_filepath = \"preprocessor.zip\"\n",
        "\n",
        "# Submit Model 1 to Competition Leaderboard\n",
        "mycompetition.submit_model(model = \"model.onnx\",\n",
        "                           preprocessor=\"preprocessor.zip\",\n",
        "                           prediction_submission=prediction_labels)"
      ]
    },
    {
      "cell_type": "code",
      "execution_count": null,
      "metadata": {
        "id": "GN1zvAmNEq17"
      },
      "outputs": [],
      "source": [
        "# Get leaderboard to explore current best model architectures\n",
        "\n",
        "# Get raw data in pandas data frame\n",
        "data = mycompetition.get_leaderboard()\n",
        "\n",
        "# Stylize leaderboard data\n",
        "mycompetition.stylize_leaderboard(data)"
      ]
    },
    {
      "cell_type": "markdown",
      "metadata": {
        "id": "bwNKs0wP4r5s"
      },
      "source": [
        "## 5. Repeat submission process to improve place on leaderboard\n"
      ]
    },
    {
      "cell_type": "code",
      "execution_count": null,
      "metadata": {
        "id": "FgSs5PAtPCZH",
        "colab": {
          "base_uri": "https://localhost:8080/"
        },
        "outputId": "54c52845-3338-4261-e096-b91beb090c29"
      },
      "outputs": [
        {
          "output_type": "stream",
          "name": "stdout",
          "text": [
            "Epoch 1/30\n",
            "173/173 [==============================] - ETA: 0s - loss: 0.6585 - accuracy: 0.6203\n",
            "Epoch 00001: val_accuracy did not improve from 0.68786\n",
            "173/173 [==============================] - 30s 84ms/step - loss: 0.6585 - accuracy: 0.6203 - val_loss: 0.7602 - val_accuracy: 0.5000 - lr: 0.0010\n",
            "Epoch 2/30\n",
            "173/173 [==============================] - ETA: 0s - loss: 0.3833 - accuracy: 0.8389\n",
            "Epoch 00002: val_accuracy improved from 0.68786 to 0.72038, saving model to model_checkpoint.h5\n",
            "173/173 [==============================] - 12s 71ms/step - loss: 0.3833 - accuracy: 0.8389 - val_loss: 0.6019 - val_accuracy: 0.7204 - lr: 0.0010\n",
            "Epoch 3/30\n",
            "173/173 [==============================] - ETA: 0s - loss: 0.1530 - accuracy: 0.9458\n",
            "Epoch 00003: val_accuracy did not improve from 0.72038\n",
            "173/173 [==============================] - 12s 71ms/step - loss: 0.1530 - accuracy: 0.9458 - val_loss: 1.0612 - val_accuracy: 0.6973 - lr: 0.0010\n",
            "Epoch 4/30\n",
            "173/173 [==============================] - ETA: 0s - loss: 0.0808 - accuracy: 0.9754\n",
            "Epoch 00004: val_accuracy did not improve from 0.72038\n",
            "173/173 [==============================] - 14s 81ms/step - loss: 0.0808 - accuracy: 0.9754 - val_loss: 1.1292 - val_accuracy: 0.6929 - lr: 0.0010\n",
            "Epoch 5/30\n",
            "173/173 [==============================] - ETA: 0s - loss: 0.0458 - accuracy: 0.9863\n",
            "Epoch 00005: ReduceLROnPlateau reducing learning rate to 0.00010000000474974513.\n",
            "\n",
            "Epoch 00005: val_accuracy did not improve from 0.72038\n",
            "173/173 [==============================] - 14s 78ms/step - loss: 0.0458 - accuracy: 0.9863 - val_loss: 1.5689 - val_accuracy: 0.6763 - lr: 0.0010\n",
            "Epoch 00005: early stopping\n"
          ]
        }
      ],
      "source": [
        "# Train and submit model 2 using same preprocessor (note that you could save a new preprocessor, but we will use the same one for this example).\n",
        "from tensorflow.keras.models import Sequential\n",
        "from tensorflow.keras.layers import Dense, Embedding, LSTM, Flatten\n",
        "\n",
        "# Code an model with atleast 3 LSTM layers (with Embedding Layer) # [1 Pts]\n",
        "# Define the model architecture\n",
        "model2 = Sequential()\n",
        "model2.add(Embedding(input_dim=len(tokenizer.word_index) + 1, output_dim=64, input_length=40))\n",
        "model2.add(LSTM(64, return_sequences=True))\n",
        "model2.add(Dropout(0.5))\n",
        "model2.add(LSTM(32, return_sequences=True))\n",
        "model2.add(Dropout(0.5))\n",
        "model2.add(LSTM(16))\n",
        "model2.add(Dropout(0.5))\n",
        "model2.add(Dense(2, activation='softmax'))\n",
        "\n",
        "# Compile the model\n",
        "model2.compile(optimizer=Adam(learning_rate=0.001), loss='categorical_crossentropy', metrics=['accuracy'])\n",
        "\n",
        "# Fit the model with validation split\n",
        "history2 = model2.fit(padded_sequences, y_train,\n",
        "                      batch_size=32, epochs=30, validation_split=0.2,\n",
        "                      callbacks = [red_lr, mod_check, early_stop])"
      ]
    },
    {
      "cell_type": "code",
      "source": [
        "# Plot history [1 Pts]\n",
        "# Plot training & validation loss values\n",
        "plt.plot(history2.history['loss'])\n",
        "plt.plot(history2.history['val_loss'])\n",
        "plt.title('Model loss')\n",
        "plt.xlabel('Epoch')\n",
        "plt.ylabel('Loss')\n",
        "plt.legend(['Train', 'Validation'], loc='upper right')\n",
        "plt.show()\n",
        "\n",
        "# Plot training & validation accuracy values\n",
        "plt.plot(history2.history['accuracy'])\n",
        "plt.plot(history2.history['val_accuracy'])\n",
        "plt.title('Model accuracy')\n",
        "plt.xlabel('Epoch')\n",
        "plt.ylabel('Accuracy')\n",
        "plt.legend(['Train', 'Validation'], loc='lower right')\n",
        "plt.show()"
      ],
      "metadata": {
        "id": "8i_ivEC0FK8_",
        "colab": {
          "base_uri": "https://localhost:8080/",
          "height": 927
        },
        "outputId": "606b59c0-5bb9-428b-a23e-01327f7102ed"
      },
      "execution_count": null,
      "outputs": [
        {
          "output_type": "display_data",
          "data": {
            "text/plain": [
              "<Figure size 640x480 with 1 Axes>"
            ],
            "image/png": "[encoded data removed]"
          },
          "metadata": {}
        },
        {
          "output_type": "display_data",
          "data": {
            "text/plain": [
              "<Figure size 640x480 with 1 Axes>"
            ],
            "image/png": "[encoded data removed]"
          },
          "metadata": {}
        }
      ]
    },
    {
      "cell_type": "markdown",
      "source": [
        "Does your model perform better or worse than your prior deep learning model? Why might that be the case?"
      ],
      "metadata": {
        "id": "jw7-1gh2FN_X"
      }
    },
    {
      "cell_type": "code",
      "source": [
        "# Answer [1 Pts]\n",
        "\n",
        "# this second model performs better, now with a validation accuracy of 0.72038\n",
        "  # compared to 0.68786 for the first. so, the difference is only marginal, and\n",
        "  # both models appear to be victims of overfitting, as the training accuracy\n",
        "  # quickly reaches 1. still, some benefits of the second model using LSTM is\n",
        "  # that it is intended to be used in situations where RNNs fail."
      ],
      "metadata": {
        "id": "Y-3tc90OFM1J"
      },
      "execution_count": null,
      "outputs": []
    },
    {
      "cell_type": "code",
      "execution_count": null,
      "metadata": {
        "id": "aIdmSpYVPYAw"
      },
      "outputs": [],
      "source": [
        "# Save keras model to local ONNX file\n",
        "from aimodelshare.aimsonnx import model_to_onnx\n",
        "\n",
        "onnx_model = model_to_onnx(model2, framework='keras',\n",
        "                           transfer_learning=False,\n",
        "                           deep_learning=True)\n",
        "\n",
        "with open(\"model2.onnx\", \"wb\") as f:\n",
        "    f.write(onnx_model.SerializeToString())"
      ]
    },
    {
      "cell_type": "code",
      "execution_count": null,
      "metadata": {
        "id": "nszPPrfwPlUk"
      },
      "outputs": [],
      "source": [
        "#Submit Model 2:\n",
        "\n",
        "#-- Generate predicted y values (Model 2)\n",
        "prediction_labels = model.predict(preprocessor(X_test))\n",
        "\n",
        "# extract correct prediction labels\n",
        "model_filepath = \"model2.onnx\"\n",
        "preprocessor_filepath = \"preprocessor.zip\"\n",
        "\n",
        "# Submit Model 2 to Competition Leaderboard\n",
        "mycompetition.submit_model(model = \"model2.onnx\",\n",
        "                           preprocessor=\"preprocessor.zip\",\n",
        "                           prediction_submission=prediction_labels)"
      ]
    },
    {
      "cell_type": "code",
      "execution_count": null,
      "metadata": {
        "id": "qLl7yLpVEx26"
      },
      "outputs": [],
      "source": [
        "# Compare two or more models\n",
        "data=mycompetition.compare_models([1, 2], verbose=1)\n",
        "mycompetition.stylize_compare(data)"
      ]
    },
    {
      "cell_type": "markdown",
      "metadata": {
        "id": "Pl67bOO-lz9k"
      },
      "source": [
        "## Tune model within range of hyperparameters with Keras Tuner\n",
        "\n",
        "\n",
        "*Consult [documentation](https://keras.io/guides/keras_tuner/getting_started/) to see full functionality.*"
      ]
    },
    {
      "cell_type": "code",
      "execution_count": null,
      "metadata": {
        "id": "MOGXwppct0KI"
      },
      "outputs": [],
      "source": [
        "! pip install keras_tuner"
      ]
    },
    {
      "cell_type": "code",
      "execution_count": null,
      "metadata": {
        "id": "O7o_zA3fv-ra"
      },
      "outputs": [],
      "source": [
        "#Separate validation data here\n",
        "from sklearn.model_selection import train_test_split\n",
        "X_train_split, X_val, y_train_split, y_val = train_test_split(\n",
        "     padded_sequences, y_train, test_size=0.2, random_state=42)"
      ]
    },
    {
      "cell_type": "code",
      "execution_count": null,
      "metadata": {
        "id": "olzZ7aposfwH",
        "colab": {
          "base_uri": "https://localhost:8080/"
        },
        "outputId": "602174ab-e2a0-4b91-e483-18066f129475"
      },
      "outputs": [
        {
          "output_type": "stream",
          "name": "stdout",
          "text": [
            "Trial 5 Complete [00h 02m 57s]\n",
            "val_accuracy: 0.7528901696205139\n",
            "\n",
            "Best val_accuracy So Far: 0.7666184902191162\n",
            "Total elapsed time: 00h 13m 22s\n"
          ]
        }
      ],
      "source": [
        "from tensorflow import keras\n",
        "from tensorflow.keras.models import Sequential\n",
        "from tensorflow.keras.layers import Dense, Embedding, LSTM, Flatten, Dropout\n",
        "import keras_tuner as kt\n",
        "\n",
        "# Define model structure & parameter search space with a function\n",
        "# code LSTM--based model with provision for searching hyperparameter space, return model  # [3 Pts]\n",
        "# Define the model structure with hyperparameters\n",
        "\n",
        "def build_model(hp):\n",
        "    model = Sequential()\n",
        "    model.add(Embedding(input_dim=len(tokenizer.word_index) + 1, output_dim=128, input_length=40))\n",
        "    for i in range(hp.Int('num_lstm_layers', 1, 3)):  # Number of LSTM layers (1 to 3)\n",
        "        model.add(LSTM(units=hp.Int(f'lstm_{i}_units', min_value=32, max_value=128, step=32), return_sequences=True))\n",
        "        model.add(Dropout(rate=hp.Float(f'dropout_{i}', min_value=0.2, max_value=0.5, step=0.1)))  # Dropout after each LSTM layer\n",
        "    model.add(LSTM(16))  # Final LSTM layer\n",
        "    model.add(Dropout(0.2))  # Dropout after the final LSTM layer\n",
        "    model.add(Dense(2, activation='softmax'))\n",
        "\n",
        "    model.compile(optimizer=Adam(learning_rate=0.001), loss='categorical_crossentropy', metrics=['accuracy'])\n",
        "    return model\n",
        "\n",
        "#initialize the keras search tuner (which will search through parameters)   # [3 Pts]\n",
        "# Define the following:\n",
        "#Your function that returns the model\n",
        "#objective to optimize\n",
        "#max number of trials to run during search\n",
        "#higher number reduces variance of results; guages model performance more accurately\n",
        "\n",
        "# Initialize the tuner\n",
        "tuner = kt.RandomSearch(\n",
        "    build_model,\n",
        "    objective='val_accuracy',\n",
        "    max_trials=5\n",
        ")\n",
        "\n",
        "# Run the tuner feeding it the validation data\n",
        "tuner.search(X_train_split, y_train_split,\n",
        "             validation_data=(X_val, y_val), epochs=30,\n",
        "             callbacks = [red_lr, mod_check, early_stop])"
      ]
    },
    {
      "cell_type": "code",
      "source": [
        "# [3 Pts]\n",
        "\n",
        "# Build model with best hyperparameters\n",
        "\n",
        "best_hps = tuner.get_best_hyperparameters(num_trials=2)  # Get the top 2 hyperparameters\n",
        "\n",
        "# Iterate over the top hyperparameters\n",
        "for hp in best_hps:\n",
        "    # Build the model with the best hyperparameters\n",
        "    tuned_model = build_model(hp)\n",
        "    # Fit the model with the entire dataset\n",
        "    tuned_model.fit(padded_sequences, y_train, epochs=30, batch_size=32, callbacks = [red_lr, mod_check, early_stop], validation_split=0.2)"
      ],
      "metadata": {
        "colab": {
          "base_uri": "https://localhost:8080/"
        },
        "id": "shXB9dfzafBV",
        "outputId": "8c536fc8-6ba0-4bda-b2d5-02b454854346"
      },
      "execution_count": null,
      "outputs": [
        {
          "output_type": "stream",
          "name": "stdout",
          "text": [
            "Epoch 1/30\n",
            "173/173 [==============================] - ETA: 0s - loss: 0.6124 - accuracy: 0.6628\n",
            "Epoch 00001: val_accuracy did not improve from 0.72110\n",
            "173/173 [==============================] - 49s 233ms/step - loss: 0.6124 - accuracy: 0.6628 - val_loss: 0.6602 - val_accuracy: 0.6163 - lr: 0.0010\n",
            "Epoch 2/30\n",
            "173/173 [==============================] - ETA: 0s - loss: 0.2785 - accuracy: 0.8895\n",
            "Epoch 00002: val_accuracy did not improve from 0.72110\n",
            "173/173 [==============================] - 24s 138ms/step - loss: 0.2785 - accuracy: 0.8895 - val_loss: 0.6484 - val_accuracy: 0.7088 - lr: 0.0010\n",
            "Epoch 3/30\n",
            "173/173 [==============================] - ETA: 0s - loss: 0.1019 - accuracy: 0.9626\n",
            "Epoch 00003: val_accuracy did not improve from 0.72110\n",
            "173/173 [==============================] - 24s 141ms/step - loss: 0.1019 - accuracy: 0.9626 - val_loss: 1.1386 - val_accuracy: 0.6850 - lr: 0.0010\n",
            "Epoch 4/30\n",
            "173/173 [==============================] - ETA: 0s - loss: 0.0456 - accuracy: 0.9857\n",
            "Epoch 00004: val_accuracy improved from 0.72110 to 0.73699, saving model to model_checkpoint.h5\n",
            "173/173 [==============================] - 25s 142ms/step - loss: 0.0456 - accuracy: 0.9857 - val_loss: 0.8900 - val_accuracy: 0.7370 - lr: 0.0010\n",
            "Epoch 5/30\n",
            "173/173 [==============================] - ETA: 0s - loss: 0.0296 - accuracy: 0.9919\n",
            "Epoch 00005: ReduceLROnPlateau reducing learning rate to 0.00010000000474974513.\n",
            "\n",
            "Epoch 00005: val_accuracy did not improve from 0.73699\n",
            "173/173 [==============================] - 25s 144ms/step - loss: 0.0296 - accuracy: 0.9919 - val_loss: 1.2515 - val_accuracy: 0.7341 - lr: 0.0010\n",
            "Epoch 00005: early stopping\n",
            "Epoch 1/30\n",
            "173/173 [==============================] - ETA: 0s - loss: 0.6108 - accuracy: 0.6575\n",
            "Epoch 00001: val_accuracy did not improve from 0.73699\n",
            "173/173 [==============================] - 21s 83ms/step - loss: 0.6108 - accuracy: 0.6575 - val_loss: 0.6455 - val_accuracy: 0.7016 - lr: 0.0010\n",
            "Epoch 2/30\n",
            "173/173 [==============================] - ETA: 0s - loss: 0.2933 - accuracy: 0.8797\n",
            "Epoch 00002: val_accuracy improved from 0.73699 to 0.75361, saving model to model_checkpoint.h5\n",
            "173/173 [==============================] - 13s 75ms/step - loss: 0.2933 - accuracy: 0.8797 - val_loss: 0.5703 - val_accuracy: 0.7536 - lr: 0.0010\n",
            "Epoch 3/30\n",
            "173/173 [==============================] - ETA: 0s - loss: 0.1212 - accuracy: 0.9576\n",
            "Epoch 00003: val_accuracy did not improve from 0.75361\n",
            "173/173 [==============================] - 13s 74ms/step - loss: 0.1212 - accuracy: 0.9576 - val_loss: 0.9227 - val_accuracy: 0.6842 - lr: 0.0010\n",
            "Epoch 4/30\n",
            "173/173 [==============================] - ETA: 0s - loss: 0.0546 - accuracy: 0.9825\n",
            "Epoch 00004: val_accuracy did not improve from 0.75361\n",
            "173/173 [==============================] - 13s 74ms/step - loss: 0.0546 - accuracy: 0.9825 - val_loss: 1.2826 - val_accuracy: 0.6987 - lr: 0.0010\n",
            "Epoch 5/30\n",
            "173/173 [==============================] - ETA: 0s - loss: 0.0303 - accuracy: 0.9904\n",
            "Epoch 00005: ReduceLROnPlateau reducing learning rate to 0.00010000000474974513.\n",
            "\n",
            "Epoch 00005: val_accuracy did not improve from 0.75361\n",
            "173/173 [==============================] - 13s 74ms/step - loss: 0.0303 - accuracy: 0.9904 - val_loss: 1.3397 - val_accuracy: 0.7204 - lr: 0.0010\n",
            "Epoch 00005: early stopping\n"
          ]
        }
      ]
    },
    {
      "cell_type": "markdown",
      "source": [
        "What were the best hyperparameters found? Why might that be performing better than others?"
      ],
      "metadata": {
        "id": "51kUa-IJFmpd"
      }
    },
    {
      "cell_type": "code",
      "source": [
        "# Answer [2 Pts]\n",
        "for hp in best_hps:\n",
        "  print(hp.values)\n",
        "\n",
        "# as seen below, the two models with the best hyperparams have some very similar\n",
        "  # features, such as the 2 lstm layers, first dropout layer at 0.2, and the\n",
        "  # second lstm layer with 32 units. of these two best models, the second performed\n",
        "  # better, and it has additional hyperparams that may have allowed for this to\n",
        "  # be the case."
      ],
      "metadata": {
        "id": "fKrheWsOF0ab",
        "colab": {
          "base_uri": "https://localhost:8080/"
        },
        "outputId": "11f51f08-ffce-46b5-df82-9ba9639a5cc6"
      },
      "execution_count": null,
      "outputs": [
        {
          "output_type": "stream",
          "name": "stdout",
          "text": [
            "{'num_lstm_layers': 2, 'lstm_0_units': 128, 'dropout_0': 0.2, 'lstm_1_units': 32, 'dropout_1': 0.2}\n",
            "{'num_lstm_layers': 2, 'lstm_0_units': 32, 'dropout_0': 0.2, 'lstm_1_units': 32, 'dropout_1': 0.4, 'lstm_2_units': 96, 'dropout_2': 0.30000000000000004}\n"
          ]
        }
      ]
    },
    {
      "cell_type": "code",
      "execution_count": null,
      "metadata": {
        "id": "HvLuIvOjHLH2"
      },
      "outputs": [],
      "source": [
        "# Save keras model to local ONNX file\n",
        "from aimodelshare.aimsonnx import model_to_onnx\n",
        "\n",
        "onnx_model = model_to_onnx(tuned_model, framework='keras',\n",
        "                           transfer_learning=False,\n",
        "                           deep_learning=True)\n",
        "\n",
        "with open(\"tuned_model.onnx\", \"wb\") as f:\n",
        "    f.write(onnx_model.SerializeToString())"
      ]
    },
    {
      "cell_type": "code",
      "execution_count": null,
      "metadata": {
        "id": "sMidHABfHVN7"
      },
      "outputs": [],
      "source": [
        "#Submit Model 3:\n",
        "\n",
        "#-- Generate predicted y values (Model 3)\n",
        "prediction_labels = tuned_model.predict(preprocessor(X_test))\n",
        "\n",
        "# extract correct prediction labels\n",
        "model_filepath = \"tuned_model.onnx\"\n",
        "preprocessor_filepath = \"preprocessor.zip\"\n",
        "\n",
        "# Submit Model 3 to Competition Leaderboard\n",
        "mycompetition.submit_model(model = \"tuned_model.onnx\",\n",
        "                           preprocessor=\"preprocessor.zip\",\n",
        "                           prediction_submission=prediction_labels)"
      ]
    },
    {
      "cell_type": "code",
      "execution_count": null,
      "metadata": {
        "id": "hn-Tp-zpJVGT"
      },
      "outputs": [],
      "source": [
        "# Get leaderboard\n",
        "\n",
        "data = mycompetition.get_leaderboard()\n",
        "mycompetition.stylize_leaderboard(data)"
      ]
    },
    {
      "cell_type": "code",
      "execution_count": null,
      "metadata": {
        "id": "MKvPKyb7hT0h"
      },
      "outputs": [],
      "source": [
        "# Compare two or more models\n",
        "data=mycompetition.compare_models([1, 2, 3], verbose=1)\n",
        "mycompetition.stylize_compare(data)"
      ]
    },
    {
      "cell_type": "markdown",
      "source": [
        "## 3 more models [30 Pts]"
      ],
      "metadata": {
        "id": "-nU8VR9uT3OJ"
      }
    },
    {
      "cell_type": "markdown",
      "source": [
        "Train three more prediction models to try to predict the SST sentiment\n",
        "dataset well.\n",
        "\n",
        "○ Use Conv1d layers in first model [ 2 Pts]\n",
        "\n",
        "○ Use Transfer learning with Glove Embeddings for 2nd model [10 Pts]\n",
        "\n",
        "○ Third model can be any Transfer learning model of your choice (Transformer architecture required, eg. BERT and related) [10 Pts]"
      ],
      "metadata": {
        "id": "eefOmAIaJYnO"
      }
    },
    {
      "cell_type": "code",
      "source": [
        "from sklearn.model_selection import train_test_split\n",
        "\n",
        "padded_sequences, tokenizer = preprocessor(X_train)\n",
        "\n",
        "X_train_split, X_val, y_train_split, y_val = train_test_split(\n",
        "     padded_sequences, y_train, test_size=0.2, random_state=42)\n",
        "\n",
        "from tensorflow.python.keras.callbacks import ModelCheckpoint, EarlyStopping, ReduceLROnPlateau\n",
        "\n",
        "checkpoint_path = \"model_checkpoint.h5\"\n",
        "\n",
        "red_lr = ReduceLROnPlateau(monitor='val_loss', patience=3, verbose=1, factor=0.1) # dividing lr by 10 when val_accuracy fails to improve after 3 epochs\n",
        "mod_check = ModelCheckpoint(filepath=checkpoint_path, monitor='val_accuracy', save_best_only=True, verbose=1)\n",
        "early_stop = EarlyStopping(monitor='val_loss', patience=3, verbose=1)"
      ],
      "metadata": {
        "id": "xCElu0zLhxIS"
      },
      "execution_count": 4,
      "outputs": []
    },
    {
      "cell_type": "code",
      "source": [
        "# Model 1\n",
        "from tensorflow.keras.layers import Conv1D, GlobalMaxPooling1D\n",
        "from tensorflow import keras\n",
        "from tensorflow.keras.models import Sequential\n",
        "from tensorflow.keras.layers import Dense, Embedding, LSTM, Flatten, Dropout\n",
        "import keras_tuner as kt\n",
        "\n",
        "def build_model_conv1d(hp):\n",
        "    model = Sequential()\n",
        "    model.add(Embedding(input_dim=len(tokenizer.word_index) + 1, output_dim=128, input_length=40))\n",
        "\n",
        "    # Add Conv1D layers\n",
        "    for i in range(hp.Int('num_conv1d_layers', 1, 3)):  # Number of Conv1D layers (1 to 3)\n",
        "        model.add(Conv1D(filters=hp.Int(f'conv1d_{i}_filters', min_value=32, max_value=128, step=32),\n",
        "                         kernel_size=hp.Int(f'conv1d_{i}_kernel_size', min_value=3, max_value=5, step=2),\n",
        "                         activation='relu'))\n",
        "        model.add(GlobalMaxPooling1D())  # Apply global max pooling after each Conv1D layer\n",
        "\n",
        "    # Add Dense layers\n",
        "    model.add(Dense(64, activation='relu'))\n",
        "    model.add(Dropout(0.5))  # Dropout layer for regularization\n",
        "    model.add(Dense(32, activation='relu'))\n",
        "    model.add(Dense(2, activation='softmax'))\n",
        "\n",
        "    model.compile(optimizer=Adam(learning_rate=0.001), loss='categorical_crossentropy', metrics=['accuracy'])\n",
        "    return model\n",
        "\n",
        "# Initialize the tuner\n",
        "tuner = kt.RandomSearch(\n",
        "    build_model_conv1d,\n",
        "    objective='val_accuracy',\n",
        "    max_trials=5\n",
        ")\n",
        "\n",
        "# Run the tuner\n",
        "tuner.search(X_train_split, y_train_split, validation_data=(X_val, y_val), epochs=30, callbacks = [red_lr, mod_check, early_stop])\n",
        "\n",
        "# Build model with best hyperparameters\n",
        "\n",
        "best_hps = tuner.get_best_hyperparameters(num_trials=2)  # Get the top 2 hyperparameters\n",
        "\n",
        "# Iterate over the top hyperparameters\n",
        "for hp in best_hps:\n",
        "    # Build the model with the best hyperparameters\n",
        "    model = build_model_conv1d(hp)\n",
        "    # Fit the model with the entire dataset\n",
        "    model.fit(padded_sequences, y_train, epochs=30, batch_size=32, callbacks = [red_lr, mod_check, early_stop], validation_split=0.2)"
      ],
      "metadata": {
        "id": "xNzUJrsxJlU5"
      },
      "execution_count": null,
      "outputs": []
    },
    {
      "cell_type": "code",
      "source": [
        "# saving model 1\n",
        "\n",
        "model.save(\"model_conv.h5\", save_format=\"h5\")"
      ],
      "metadata": {
        "id": "svn_2Gg34SaT"
      },
      "execution_count": null,
      "outputs": []
    },
    {
      "cell_type": "code",
      "source": [
        "!wget http://nlp.stanford.edu/data/glove.6B.zip\n",
        "\n",
        "import zipfile\n",
        "zip_ref = zipfile.ZipFile(\"glove.6B.zip\", 'r')\n",
        "zip_ref.extractall(\".\")\n",
        "zip_ref.close()"
      ],
      "metadata": {
        "id": "U6Z2t2wpg52g"
      },
      "execution_count": null,
      "outputs": []
    },
    {
      "cell_type": "code",
      "source": [
        "# Model 2\n",
        "from tensorflow.keras.initializers import Constant\n",
        "from tensorflow import keras\n",
        "from tensorflow.keras.models import Sequential\n",
        "from tensorflow.keras.layers import Dense, Embedding, LSTM, Flatten, Dropout\n",
        "import keras_tuner as kt\n",
        "\n",
        "# Load pre-trained GloVe embeddings\n",
        "embeddings_index = {}\n",
        "embedding_dim = 100  # Assuming you want to use 100-dimensional GloVe embeddings\n",
        "glove_file = 'glove.6B.100d.txt'  # Path to the GloVe embeddings file\n",
        "\n",
        "with open(glove_file, 'r', encoding='utf-8') as f:\n",
        "    for line in f:\n",
        "        values = line.split()\n",
        "        word = values[0]\n",
        "        coefs = np.asarray(values[1:], dtype='float32')\n",
        "        embeddings_index[word] = coefs\n",
        "\n",
        "# Prepare embedding matrix\n",
        "num_words = len(tokenizer.word_index) + 1\n",
        "embedding_matrix = np.zeros((num_words, embedding_dim))\n",
        "\n",
        "for word, i in tokenizer.word_index.items():\n",
        "    embedding_vector = embeddings_index.get(word)\n",
        "    if embedding_vector is not None:\n",
        "        embedding_matrix[i] = embedding_vector\n",
        "\n",
        "# Define the model architecture\n",
        "def build_model_glove(hp):\n",
        "    model = Sequential()\n",
        "    model.add(Embedding(input_dim=embedding_matrix.shape[0], output_dim=embedding_matrix.shape[1],\n",
        "                        embeddings_initializer=Constant(embedding_matrix),\n",
        "                        input_length=40, trainable=False))  # Use pre-trained GloVe embeddings\n",
        "\n",
        "    for i in range(hp.Int('num_lstm_layers', 1, 3)):  # Number of LSTM layers (1 to 3)\n",
        "        model.add(LSTM(units=hp.Int(f'lstm_{i}_units', min_value=32, max_value=128, step=32),\n",
        "                       return_sequences=True))\n",
        "        model.add(Dropout(rate=hp.Float(f'dropout_{i}', min_value=0.2, max_value=0.5, step=0.1)))  # Dropout after each LSTM layer\n",
        "\n",
        "    model.add(LSTM(16))  # Final LSTM layer\n",
        "    model.add(Dropout(0.2))  # Dropout after the final LSTM layer\n",
        "    model.add(Dense(2, activation='softmax'))\n",
        "\n",
        "    model.compile(optimizer=Adam(learning_rate=0.001), loss='categorical_crossentropy', metrics=['accuracy'])\n",
        "    return model\n",
        "\n",
        "# Initialize the tuner\n",
        "tuner = kt.RandomSearch(\n",
        "    build_model_glove,\n",
        "    objective='val_accuracy',\n",
        "    max_trials=5\n",
        ")\n",
        "\n",
        "# Run the tuner\n",
        "tuner.search(X_train_split, y_train_split, validation_data=(X_val, y_val), epochs=30, callbacks = [red_lr, mod_check, early_stop])\n",
        "\n",
        "# Build model with best hyperparameters\n",
        "\n",
        "best_hps = tuner.get_best_hyperparameters(num_trials=2)  # Get the top 2 hyperparameters\n",
        "\n",
        "# Iterate over the top hyperparameters\n",
        "for hp in best_hps:\n",
        "    # Build the model with the best hyperparameters\n",
        "    model = build_model_glove(hp)\n",
        "    # Fit the model with the entire dataset\n",
        "    model.fit(padded_sequences, y_train, epochs=30, batch_size=32, callbacks = [red_lr, mod_check, early_stop], validation_split=0.2)"
      ],
      "metadata": {
        "id": "kYqWJ8VdJ_kE"
      },
      "execution_count": null,
      "outputs": []
    },
    {
      "cell_type": "code",
      "source": [
        "# saving model 2\n",
        "\n",
        "model.save(\"model_glove.h5\", save_format=\"h5\")"
      ],
      "metadata": {
        "id": "Hc2J30F0jEdy"
      },
      "execution_count": null,
      "outputs": []
    },
    {
      "cell_type": "markdown",
      "source": [
        "We load the pre-trained GloVe embeddings and prepare an embedding matrix using the words in the tokenizer's vocabulary.\n",
        "The Embedding layer of the model is initialized with the pre-trained GloVe embeddings using the Constant initializer, and we set trainable=False to freeze the embeddings during training.\n",
        "The rest of the model architecture remains the same, and we use the Keras Tuner to search for the best hyperparameters while keeping the GloVe embeddings fixed."
      ],
      "metadata": {
        "id": "J-VSBiHhW6cf"
      }
    },
    {
      "cell_type": "code",
      "source": [
        "# A dependency of the preprocessing for BERT inputs\n",
        "!pip install -U \"tensorflow-text==2.13.*\""
      ],
      "metadata": {
        "id": "_3fy_LcTgdiD"
      },
      "execution_count": null,
      "outputs": []
    },
    {
      "cell_type": "code",
      "source": [
        "!pip install \"tf-models-official==2.13.*\""
      ],
      "metadata": {
        "id": "CnQYDF-Sgdex"
      },
      "execution_count": null,
      "outputs": []
    },
    {
      "cell_type": "code",
      "source": [
        "import os\n",
        "import shutil\n",
        "\n",
        "import tensorflow as tf\n",
        "import tensorflow_hub as hub\n",
        "import tensorflow_text as text\n",
        "from official.nlp import optimization  # to create AdamW optimizer\n",
        "\n",
        "import matplotlib.pyplot as plt\n",
        "\n",
        "tf.get_logger().setLevel('ERROR')"
      ],
      "metadata": {
        "id": "hYt4VY2TgnyZ"
      },
      "execution_count": 7,
      "outputs": []
    },
    {
      "cell_type": "code",
      "source": [
        "# Model 3\n",
        "\n",
        "# code based on https://www.tensorflow.org/text/tutorials/classify_text_with_bert\n",
        "\n",
        "tfhub_handle_encoder = 'https://tfhub.dev/tensorflow/small_bert/bert_en_uncased_L-4_H-128_A-2/1'\n",
        "tfhub_handle_preprocess = 'https://tfhub.dev/tensorflow/bert_en_uncased_preprocess/3'\n",
        "\n",
        "bert_preprocess_model = hub.KerasLayer(tfhub_handle_preprocess)\n",
        "bert_model = hub.KerasLayer(tfhub_handle_encoder)\n",
        "\n",
        "def build_classifier_model():\n",
        "    text_input = tf.keras.layers.Input(shape=(), dtype=tf.string, name='text')\n",
        "\n",
        "    preprocessing_layer = hub.KerasLayer(tfhub_handle_preprocess, name='preprocessing')\n",
        "\n",
        "    encoder_inputs = preprocessing_layer(text_input)\n",
        "    encoder = hub.KerasLayer(tfhub_handle_encoder, trainable=True, name='BERT_encoder')\n",
        "    outputs = encoder(encoder_inputs)\n",
        "\n",
        "    net = outputs['pooled_output']\n",
        "    net = tf.keras.layers.Dropout(0.1)(net)\n",
        "    net = tf.keras.layers.Dense(2, activation='softmax')(net)\n",
        "\n",
        "    return tf.keras.Model(text_input, net)\n",
        "\n",
        "classifier_model = build_classifier_model()\n",
        "bert_raw_result = classifier_model(tf.constant(list(X_train[0:2])))\n",
        "\n",
        "classifier_model.compile(optimizer = \"adam\",\n",
        "                         loss='categorical_crossentropy',\n",
        "                         metrics=['accuracy'])\n",
        "\n",
        "history = classifier_model.fit(X_train, y_train,\n",
        "                               validation_split=0.2, epochs=30,\n",
        "                               callbacks = [red_lr, mod_check, early_stop])"
      ],
      "metadata": {
        "id": "SmWC5tG0J_nK",
        "colab": {
          "base_uri": "https://localhost:8080/"
        },
        "outputId": "bb0531e2-8ec8-47e2-ada6-0097a8efcf3b"
      },
      "execution_count": null,
      "outputs": [
        {
          "output_type": "stream",
          "name": "stdout",
          "text": [
            "Epoch 1/30\n",
            "173/173 [==============================] - ETA: 0s - loss: 0.7159 - accuracy: 0.5697\n",
            "Epoch 00001: val_accuracy improved from -inf to 0.14884, saving model to model_checkpoint.h5\n",
            "173/173 [==============================] - 276s 2s/step - loss: 0.7159 - accuracy: 0.5697 - val_loss: 1.2492 - val_accuracy: 0.1488 - lr: 0.0010\n",
            "Epoch 2/30\n",
            "173/173 [==============================] - ETA: 0s - loss: 0.6104 - accuracy: 0.6794\n",
            "Epoch 00002: val_accuracy improved from 0.14884 to 0.50506, saving model to model_checkpoint.h5\n",
            "173/173 [==============================] - 238s 1s/step - loss: 0.6104 - accuracy: 0.6794 - val_loss: 1.1283 - val_accuracy: 0.5051 - lr: 0.0010\n",
            "Epoch 3/30\n",
            "128/173 [=====================>........] - ETA: 54s - loss: 0.6336 - accuracy: 0.6707"
          ]
        }
      ]
    },
    {
      "cell_type": "code",
      "source": [
        "# saving model 3\n",
        "\n",
        "model.save(\"model_bert.h5\", save_format=\"h5\")"
      ],
      "metadata": {
        "id": "J5-B_ellxJs-"
      },
      "execution_count": null,
      "outputs": []
    },
    {
      "cell_type": "markdown",
      "source": [
        "### Extra credits : Train any models of your choice [+10 Extra Points]"
      ],
      "metadata": {
        "id": "PKjNrHW2fZOx"
      }
    },
    {
      "cell_type": "code",
      "source": [
        "# Any modern models of your choice (should be released after BERT)"
      ],
      "metadata": {
        "id": "Mjfe4bPZflxG"
      },
      "execution_count": null,
      "outputs": []
    },
    {
      "cell_type": "markdown",
      "source": [
        "Tabularize results from ALL your models in this notebook and compare performance [5 Pts]"
      ],
      "metadata": {
        "id": "E15c5GrbKT_D"
      }
    },
    {
      "cell_type": "code",
      "source": [
        "# Define a function to evaluate model performance\n",
        "from sklearn.metrics import accuracy_score, precision_score, recall_score, f1_score, confusion_matrix\n",
        "\n",
        "# List of saved models\n",
        "models = []\n",
        "\n",
        "# Evaluate the models on the test data to obtain performance metrics\n",
        "test_metrics = []\n",
        "for model in models:\n",
        "  test_loss, test_accuracy, test_precision, test_recall = model.evaluate(X_test, y_test, verbose=1) ## X_test, y_test??\n",
        "  test_metrics.append({'Test Loss': test_loss,\n",
        "                       'Test Accuracy': test_accuracy,\n",
        "                       'Test Precision': test_precision,\n",
        "                       'Test Recall': test_recall})"
      ],
      "metadata": {
        "id": "FLbR4oEmLJJW"
      },
      "execution_count": null,
      "outputs": []
    },
    {
      "cell_type": "code",
      "source": [
        "metrics_df = pd.DataFrame({\n",
        "    'Model': ['','',''],\n",
        "    'Accuracy': [metrics['Test Accuracy'] for metrics in test_metrics],\n",
        "    'Loss': [metrics['Test Loss'] for metrics in test_metrics],\n",
        "    'Precision': [metrics['Test Precision'] for metrics in test_metrics],\n",
        "    'Recall': [metrics['Test Recall'] for metrics in test_metrics]\n",
        "    })\n",
        "\n",
        "print(metrics_df)"
      ],
      "metadata": {
        "id": "0hT8ALqSXzi3"
      },
      "execution_count": null,
      "outputs": []
    },
    {
      "cell_type": "code",
      "source": [],
      "metadata": {
        "id": "dwB8haTTK6Yl"
      },
      "execution_count": null,
      "outputs": []
    },
    {
      "cell_type": "markdown",
      "source": [
        "Results Discussion : Point out why specific models may have performed better than others. and discuss failures if any. [3 Pts]"
      ],
      "metadata": {
        "id": "-NH7R7sNLGLK"
      }
    },
    {
      "cell_type": "markdown",
      "source": [
        "# Python Inference pipeline on unseen dataset [45 Points (35 Pts + 10 Extra Credits)]"
      ],
      "metadata": {
        "id": "UBwhx3wfUIsL"
      }
    },
    {
      "cell_type": "markdown",
      "source": [
        "## <b>Github Repo: </b>\n",
        "\n",
        "## **Part 1. [25 Pts]**\n",
        "\n",
        "You will exercise **Modularization** and Good Github organization: You should take the relevant code and make it into classes across different python (.py) files so that you can just import those files and/or classes and/or functions and/or modules, instantiate the model using them, load weights from your saved models, and start predicting on any new set of test reviews (an unseen larger test dataset).\n",
        "\n",
        "Essentially, you should have a simple and clean **\"front-end\" notebook** where you download your trained and saved models from say a personal drive link, and have an inference pipeline ready within about **10 lines of code** to predict on any new unseen Movie reviews dataset after loading it from a csv.\n",
        "\n",
        "This time you will provide a choice of 3 trained models to choose from (atleast 2 from the last 3 models section + extra credit section if you did it) . You will give us a list of strings as a comment, and should provide the functionality to just specify the model to load using one of the 3 strings. An outline is detailed below.\n",
        "\n",
        "<br><br>\n",
        "**We have provided a test_sample.csv with 100 rows for you to test your front-end notebook.**\n",
        "\n",
        "Your notebook should import relevant classes and modules on the back-end, and should load weights and subsequently just take the \"review\" column of given test_sample.csv and predict 'positive' or 'negative' sentiment on it (see outline of code below). Use the \"sentiment\" column from the test_sample csv ONLY when finally comparing your own predictions with it and output a classification report.\n",
        "\n",
        "You should use a local environment with all packages installed and an IDE like VScode or PyCharm etc. to be able to do this section efficiently. There is no aimodelshare invlved in this section, and there shouldn't be any mention of it.\n",
        "\n",
        "\n",
        "\n",
        "<br><br>\n",
        "### Environment Requirements\n",
        "Include a pip requirements.txt file for your environment.\n",
        "Use the following command to generate it automatically:\n",
        "\n",
        "```$ pip freeze > requirements.txt```\n",
        "\n",
        "When evaluating this section, we will run\n",
        "\n",
        "```pip install -r requirements.txt```\n",
        "\n",
        "to recreate the exact environment you have locally and then test your code.\n",
        "\n",
        "**ENSURE** that this works as intended by creating another new virtual conda environment, cloning your own latest Github commit locally from scratch, installing packages using your requirements.txt file, and following all the instructions you provide in the Readme and the front-end notebook to run the inference pipeline on the sample data. We will do the exact same steps to replicate it, and then substitute test sample with the actual dataset to evaluate this section.\n",
        "\n",
        "\n"
      ],
      "metadata": {
        "id": "nHZKXkVAPUbb"
      }
    },
    {
      "cell_type": "markdown",
      "source": [
        "## Outline for front-end notebook:"
      ],
      "metadata": {
        "id": "1DfTz2lgAIqB"
      }
    },
    {
      "cell_type": "code",
      "source": [
        "## You will include code to load the test_sample.csv in your Front-end notebok\n",
        "## Note that this csv can be of any large length, and you will predict on it using one of 3 models you provide weights for."
      ],
      "metadata": {
        "id": "fGSNFMqRPvWb"
      },
      "execution_count": null,
      "outputs": []
    },
    {
      "cell_type": "code",
      "source": [
        "# Provide a comment like this:\n",
        "\n",
        "\n",
        "\n",
        "### Hi User! Please choose a model between [\"Glove150d\", \"DistillBERT\", \"GPT2\"]\n",
        "\n",
        "model_name = \"DistillBERT\"  # Choice to modify model name from your given list\n",
        "\n",
        "\n",
        "## Now call appropriate class/function from backend to download relevant weights, instantiate specified model and load the weights, and return the loaded model, ready to predict\n",
        "\n",
        "## load the test csv:\n",
        "import pandas as pd\n",
        "\n",
        "test_data = pd.read_csv(\"test_sample.csv\")\n",
        "test_reviews=test_data.review\n"
      ],
      "metadata": {
        "id": "bGTkJpjWP4VA"
      },
      "execution_count": null,
      "outputs": []
    },
    {
      "cell_type": "code",
      "source": [
        "## Send the test reviews to a backend function after preprocessing to predict sentiment : USE \"tqdm\" while predicting to show progress bar, transform predictions as needed\n",
        "\n",
        "## preprocessing and any other intermediate steps should be through backend code, not in the front-end notebook\n",
        "\n",
        "## pull out test_data.sentiment now (ground truth), transform as needed and compare your predictions with it\n",
        "\n",
        "## Output the classification report on these test reviews and plot confusion matrix at the end of the front-end notebook (You will actually be tested on a much larger test dataset, but it would be of the same format)"
      ],
      "metadata": {
        "id": "HdmOat5TQPPj"
      },
      "execution_count": null,
      "outputs": []
    },
    {
      "cell_type": "markdown",
      "source": [
        "# Make sure your notebook can run your inference pipeline on the loaded test_sample.csv reviews.  \n",
        "\n",
        "# **You will recieve a ZERO (0) for this section if any of the following cases are true:**\n",
        "### - If there is no front-end notebook, or no python (.py) files where you have declared classes, modules and functions to delegate all the work in backend\n",
        "### - If there is no requirements.txt file in your repo\n",
        "### - If after installing requirements in a new environment, following the  instructions in your Readme or Notebook does not lead to any valid output upon running the front-end notebook.\n",
        "### - If your notebook does not output the final classification report and matrix for at least 1 model after predicting on test_sample\n",
        "### - If you include or run any Training code in your front-end notebook or python files in github repository\n",
        "### - If you include more than 30 lines of code in the front-end notebook (apart from importing your functions, classes from your modules)\n",
        "### - If you attempt to use the 'sentiment' column from the test_sample for any  purpose other than comparison of your final predictions with it, and transforming it if needed.\n",
        "\n",
        "\n",
        "\n",
        "<br><br>\n",
        "# **You will recieve 25 + 10 EXTRA points if you do this section well.**\n",
        "\n",
        "### How to do this section well:\n",
        "\n",
        "Get a proper understanding of object-oriented programming in python. Learn what classes and modules are if you don't know already. Try to **encapsulate all code** within appropriately named classes and its functions. Each class and function should have a specific isloated purpose. All the classes and functions you design would talk to each other efficiently and handle everything in the background without needing to get back to the front-end notebook for outputting or retreiving intermediate objects.\n",
        "\n",
        "In the front-end notebook, you essentially only need to include code to send the model name to backend using 1 function, get the loaded model back, read and send the test reviews to backend for predicting with this loaded model, then load the ground truth and straight up output the classification report from the backend (less than 10 lines of code)\n",
        "\n",
        "The majority of your code should never be exposed directly in python files without being inside a class or a function. Only explicitly needed global variables, imports or declarations should be done outside the scope of a function or a class.\n",
        "\n",
        "<br><br>\n",
        "### Documentation\n",
        "\n",
        "Include **Docstrings** for each function and class, define the input parameters and outputs, what they are and what data type they are expected to be in.\n",
        "\n",
        "Example of a good docstring:\n",
        "```python\n",
        "def calculate_rectangle_area(length: float, width: float) -> float:\n",
        "    \"\"\"\n",
        "    Calculate the area of a rectangle.\n",
        "\n",
        "    This function takes the length and width of a rectangle and returns its area. The calculation assumes that the input values are in the same unit and will return the area in that unit squared.\n",
        "\n",
        "    Parameters:\n",
        "    - length (float): The length of the rectangle. Must be a positive number.\n",
        "    - width (float): The width of the rectangle. Must be a positive number.\n",
        "\n",
        "    Returns:\n",
        "    - area (float): The calculated area of the rectangle in the unit squared of the input measurements.\n",
        "\n",
        "    Raises:\n",
        "    - ValueError: If either the length or width is non-positive.\n",
        "\n",
        "    \"\"\"\n",
        "\n",
        "\n",
        "    if length <= 0 or width <= 0:\n",
        "        raise ValueError(\"Length and width must be positive numbers.\")\n",
        "\n",
        "    area = length * width\n",
        "\n",
        "    return area\n",
        "```"
      ],
      "metadata": {
        "id": "7DMPWpf6bY6H"
      }
    },
    {
      "cell_type": "markdown",
      "source": [
        "\n",
        "\n",
        "<br><br>\n",
        "### **Part 2. [5 Pts]**\n",
        "\n",
        "In the **README.md** file of your repository should be an overall outline of your experiments, including the models you trained succesfully and have results for - summarized in a tabular way. You can include other details in your readme as well, but not too detailed. Consider this an exposition of your project for someone who does not know anything about this project.\n",
        "\n",
        "\n",
        "Include instructions on how to install requirements, how to run your front-end notebook and describe which 3 models you gave choice to load and predict on.\n",
        "\n",
        "\n",
        "Include a tree structure of your files in the github repository.\n",
        "\n",
        "Example:\n",
        "```\n",
        "$ tree\n",
        ".\n",
        "├── dir1\n",
        "│   ├── file11.ext\n",
        "│   └── file12.ext\n",
        "├── dir2\n",
        "│   ├── file21.ext\n",
        "│   ├── file22.ext\n",
        "│   └── file23.ext\n",
        "├── dir3\n",
        "├── file_in_root.ext\n",
        "└── README.md\n",
        "\n",
        "3 directories, 7 files\n",
        "```\n",
        "\n",
        "Look at different readme's across github to see how they are organized. Refer to [this resource](https://docs.github.com/en/get-started/writing-on-github/getting-started-with-writing-and-formatting-on-github/basic-writing-and-formatting-syntax) to learn how to format the file.\n",
        "\n",
        "- Example of a [Good Readme File](https://github.com/hankcs/HanLP) (We have no affiliations with Author)\n",
        "- Example of a [Bad Readme File](https://github.com/tstran155/AG-News-Topic-Classification-and-Topic-Modeling-using-Natural-Language-Processing)\n",
        "- Example of an [Acceptable/OK Readme File](https://github.com/lonePatient/Bert-Multi-Label-Text-Classification)\n",
        ": This is the minimum level at which you should have your Readme\n",
        "\n",
        "Note that these examples are different from the last assignment.\n",
        "\n",
        "<br><br>\n",
        "### **Part 3. [5 Pts]**\n",
        "\n",
        "In the **Final report** (.ipynb) notebook, put whatever code, visuals and results you think are relevant. It is open ended, you should not just post a copy of this notebook for it. It should be brief, clean and succinct as has been instructed before. No residues from the assignment should be present, it should look like a professional report of experiments conducted.\n",
        "\n",
        "\n"
      ],
      "metadata": {
        "id": "tjopqFqUs0Pm"
      }
    },
    {
      "cell_type": "markdown",
      "source": [
        "\n",
        "#### Do not forget to link the final Github repository containing the Front-end running notebook, your code, Readme and Final report at the top of this notebook."
      ],
      "metadata": {
        "id": "H4dPFDuKU-zN"
      }
    },
    {
      "cell_type": "code",
      "source": [],
      "metadata": {
        "id": "GPcFanPsU_Qf"
      },
      "execution_count": null,
      "outputs": []
    }
  ],
  "metadata": {
    "colab": {
      "provenance": [],
      "include_colab_link": true
    },
    "kernelspec": {
      "display_name": "Python 3 (ipykernel)",
      "language": "python",
      "name": "python3"
    },
    "language_info": {
      "codemirror_mode": {
        "name": "ipython",
        "version": 3
      },
      "file_extension": ".py",
      "mimetype": "text/x-python",
      "name": "python",
      "nbconvert_exporter": "python",
      "pygments_lexer": "ipython3",
      "version": "3.10.9"
    }
  },
  "nbformat": 4,
  "nbformat_minor": 0
}