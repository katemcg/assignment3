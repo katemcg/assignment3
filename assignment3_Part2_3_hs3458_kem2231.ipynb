{
  "cells": [
    {
      "cell_type": "markdown",
      "metadata": {
        "id": "view-in-github",
        "colab_type": "text"
      },
      "source": [
        "<a href=\"https://colab.research.google.com/github/katemcg/assignment3/blob/main/assignment3_Part2_3_hs3458_kem2231.ipynb\" target=\"_parent\"><img src=\"https://colab.research.google.com/assets/colab-badge.svg\" alt=\"Open In Colab\"/></a>"
      ]
    },
    {
      "cell_type": "markdown",
      "metadata": {
        "id": "vVFTG0FjBykl"
      },
      "source": [
        "<p align=\"center\"><h1 align=\"center\">QMSS5074GR <br> Projects in Advanced Machine Learning <br>Spring 2024 <br> FINAL PROJECT <br>Assignment 3 Part 2 [GROUP Assignment]</h1>\n",
        "\n",
        "---\n",
        "<br>\n",
        "\n",
        "#### **Your Unis** : hs3458, kem2231\n",
        "#### **Your Full names** : Harini Sundararajan, Kate McGrath\n",
        "#### **Your AI Model Share Usernames**: harinisund, kem2231\n",
        "#### **Link to your Public Github repository** : https://github.com/katemcg/assignment3\n",
        "#### **Team member Contribution Percentages** : Fill here"
      ]
    },
    {
      "cell_type": "markdown",
      "source": [
        "The highest achievable marks are 120, with there being 20 extra credits. The overall distribution of marks is as follows:\n",
        "\n",
        "Part 1:\n",
        "EDA and basic ML models : [15 points]\n",
        "\n",
        "Part 2:\n",
        "Deep Learning Section: [60 Total possible]\n",
        "Recurrent models : 20 points\n",
        "3 other models (CNN and Transformers) : 22 points + 10 Extra credits\n",
        "Results : 8 points\n",
        "\n",
        "\n",
        "Github Section : [45 Total possible]\n",
        "Inference pipeline : 25 Points + 10 Extra credits\n",
        "Readme + Report : 10 points\n",
        "\n",
        "Heavy weightage (45 total possible marks) is assigned to the last section. Please be mindful of the time required to complete the last section as it is non-trivial and the most important part of the final project. Read instructions on how to score Zero marks and how to score 45 marks on this."
      ],
      "metadata": {
        "id": "34O15Pnn4qTr"
      }
    },
    {
      "cell_type": "markdown",
      "metadata": {
        "id": "JXxGTgJz152A"
      },
      "source": [
        "## Stanford Sentiment Treebank - Movie Review Classification Competition\n",
        "\n",
        "\n",
        "## **Instructions: [Total 85 Points for this part]**\n",
        "1.   Get data in and set up X_train / X_test / y_train\n",
        "2.   Preprocess data using keras Tokenizer/ Write and Save Preprocessor function\n",
        "3. Fit model on preprocessed data and save preprocessor function and model\n",
        "4. Generate predictions from X_test data and submit model to competition\n",
        "5. Repeat submission process to improve place on leaderboard\n",
        "\n"
      ]
    },
    {
      "cell_type": "markdown",
      "metadata": {
        "id": "5gSrVJwp3E9H"
      },
      "source": [
        "## 1. Get data in and set up X_train, X_test, y_train objects"
      ]
    },
    {
      "cell_type": "code",
      "execution_count": null,
      "metadata": {
        "id": "PLTIaMB3ChSW"
      },
      "outputs": [],
      "source": [
        "#install aimodelshare library\n",
        "! pip install aimodelshare"
      ]
    },
    {
      "cell_type": "code",
      "execution_count": null,
      "metadata": {
        "id": "d3PiJXBhC5y-"
      },
      "outputs": [],
      "source": [
        "# Get competition data\n",
        "from aimodelshare import download_data\n",
        "download_data('public.ecr.aws/y2e2a1d6/sst2_competition_data-repository:latest')"
      ]
    },
    {
      "cell_type": "code",
      "source": [
        "import re\n",
        "import string\n",
        "import numpy as np\n",
        "import random\n",
        "import pandas as pd\n",
        "import matplotlib.pyplot as plt\n",
        "import seaborn as sns\n",
        "%matplotlib inline\n",
        "from plotly import graph_objs as go\n",
        "import plotly.express as px\n",
        "import plotly.figure_factory as ff\n",
        "from collections import Counter\n",
        "\n",
        "from PIL import Image\n",
        "from wordcloud import WordCloud, STOPWORDS, ImageColorGenerator\n",
        "\n",
        "import nltk\n",
        "nltk.download('stopwords')\n",
        "from nltk.corpus import stopwords\n",
        "from nltk.tokenize import word_tokenize\n",
        "\n",
        "from tqdm import tqdm\n",
        "import os\n",
        "import nltk\n",
        "import spacy\n",
        "import random\n",
        "from spacy.util import compounding\n",
        "from spacy.util import minibatch\n",
        "\n",
        "from collections import defaultdict\n",
        "from collections import Counter\n",
        "\n",
        "import keras\n",
        "from keras.models import Sequential\n",
        "from keras.initializers import Constant\n",
        "from keras.layers import (LSTM,\n",
        "                          Embedding,\n",
        "                          BatchNormalization,\n",
        "                          Dense,\n",
        "                          TimeDistributed,\n",
        "                          Dropout,\n",
        "                          Bidirectional,\n",
        "                          Flatten,\n",
        "                          GlobalMaxPool1D)\n",
        "from keras.preprocessing.text import Tokenizer\n",
        "from keras.preprocessing.sequence import pad_sequences\n",
        "from keras.callbacks import ModelCheckpoint, ReduceLROnPlateau, EarlyStopping\n",
        "from keras.optimizers import Adam\n",
        "\n",
        "from sklearn.metrics import (\n",
        "    precision_score,\n",
        "    recall_score,\n",
        "    f1_score,\n",
        "    classification_report,\n",
        "    accuracy_score\n",
        ")"
      ],
      "metadata": {
        "id": "EBHtLyJlUIju"
      },
      "execution_count": null,
      "outputs": []
    },
    {
      "cell_type": "markdown",
      "source": [
        "## IMPORTANT NOTE\n",
        "This X_test has no relation to test_sample.csv\n",
        "This X_test (downloaded from above link) is for prediction and submission to aimodelshare only. You can create a validation split from the X_train here or during instatiating the model.\n",
        "\n",
        "The test_sample.csv is meant for only inference from your best 3 saved models, and is only meant to be used in the final front-end notebook (See last section, Note that it has a very high weightage in this assignment). Predicting the labels in correct format on this test_sample may also require you to change your preprocessing and transform code. Ensure you code it correctly and that your final front-end notebook can predict on it appropriately.\n",
        "\n",
        "None of the training code in this notebook will go into your python files in Github or your front-end notebook (See last cell instructions)"
      ],
      "metadata": {
        "id": "Icj99lQhr__W"
      }
    },
    {
      "cell_type": "code",
      "execution_count": 4,
      "metadata": {
        "id": "jT0qFCZFNzHq",
        "outputId": "fba4f91e-464e-4ca2-8c21-f14feaef68e3",
        "colab": {
          "base_uri": "https://localhost:8080/"
        }
      },
      "outputs": [
        {
          "output_type": "execute_result",
          "data": {
            "text/plain": [
              "0    The Rock is destined to be the 21st Century 's...\n",
              "1    The gorgeously elaborate continuation of `` Th...\n",
              "2    Singer/composer Bryan Adams contributes a slew...\n",
              "3                 Yet the act is still charming here .\n",
              "4    Whether or not you 're enlightened by any of D...\n",
              "Name: text, dtype: object"
            ]
          },
          "metadata": {},
          "execution_count": 4
        }
      ],
      "source": [
        "# Set up X_train, X_test, and y_train_labels objects\n",
        "import pandas as pd\n",
        "import warnings\n",
        "warnings.simplefilter(action='ignore', category=Warning)\n",
        "\n",
        "X_train=pd.read_csv(\"X_train.csv\")\n",
        "X_test=pd.read_csv(\"X_test.csv\")\n",
        "y_train_labels=pd.read_csv(\"y_train_labels.csv\")\n",
        "\n",
        "# Convert to series if your following preprocessor needs it\n",
        "def to_series(df):\n",
        "  if len(df.columns) == 1:\n",
        "    return(df.squeeze())\n",
        "\n",
        "X_train = to_series(X_train)\n",
        "X_test = to_series(X_test)\n",
        "y_train_labels = to_series(y_train_labels)\n",
        "\n",
        "# One hot encode encode Y data here\n",
        "y_train = pd.get_dummies(y_train_labels)\n",
        "\n",
        "X_train.head()"
      ]
    },
    {
      "cell_type": "markdown",
      "metadata": {
        "id": "gEzPoXPj3V7u"
      },
      "source": [
        "##2.   Preprocess data using keras tokenizer / Write and Save Preprocessor function\n"
      ]
    },
    {
      "cell_type": "code",
      "source": [
        "def remove_stopwords(text):\n",
        "    stop_words = stopwords.words('english')\n",
        "    text = ' '.join(word for word in text.split(' ') if word not in stop_words)\n",
        "    return text\n",
        "\n",
        "def clean_text(text):\n",
        "    '''Make text lowercase, remove text in square brackets,remove links,remove punctuation\n",
        "    and remove words containing numbers.'''\n",
        "    text = str(text).lower()\n",
        "    text = re.sub('\\[.*?\\]', '', text)\n",
        "    text = re.sub('https?://\\S+|www\\.\\S+', '', text)\n",
        "    text = re.sub('<.*?>+', '', text)\n",
        "    text = re.sub('[%s]' % re.escape(string.punctuation), '', text)\n",
        "    text = re.sub('\\n', '', text)\n",
        "    text = re.sub('\\w*\\d\\w*', '', text)\n",
        "    return text"
      ],
      "metadata": {
        "id": "uFEA4a7hT0Zg"
      },
      "execution_count": 5,
      "outputs": []
    },
    {
      "cell_type": "code",
      "execution_count": 6,
      "metadata": {
        "id": "16QV9Y9TC3B3",
        "outputId": "5a603f2a-1e5e-4ffd-f4bf-00d473795d5a",
        "colab": {
          "base_uri": "https://localhost:8080/"
        }
      },
      "outputs": [
        {
          "output_type": "stream",
          "name": "stdout",
          "text": [
            "(6920, 40)\n",
            "(1821, 40)\n"
          ]
        }
      ],
      "source": [
        "# This preprocessor function makes use of the tf.keras tokenizer\n",
        "\n",
        "from tensorflow import keras\n",
        "from tensorflow.keras.preprocessing.text import Tokenizer\n",
        "from tensorflow.keras.utils import pad_sequences\n",
        "import numpy as np\n",
        "import re\n",
        "import string\n",
        "from nltk.corpus import stopwords\n",
        "from nltk.tokenize import word_tokenize\n",
        "\n",
        "# [3 Pts]for this cell\n",
        "\n",
        "# Build vocabulary from training text data\n",
        "\n",
        "# preprocessor tokenizes words and makes sure all documents have the same length (perform padding with maxlen=40)\n",
        "\n",
        "def preprocessor(texts, maxlen=40):\n",
        "    \"\"\"\n",
        "    Preprocesses a list of texts using pre-defined functions to clean text and remove stopwords, tf.keras Tokenizer and pads sequences to a fixed length.\n",
        "\n",
        "    Args:\n",
        "    texts: List of strings representing input texts.\n",
        "    maxlen: Maximum length of sequences after padding, set to 40.\n",
        "\n",
        "    Returns:\n",
        "    padded_sequences: Numpy array of padded sequences.\n",
        "    tokenizer: Tokenizer object fitted on the input texts.\n",
        "    \"\"\"\n",
        "\n",
        "    texts = texts.apply(clean_text)\n",
        "\n",
        "    texts = texts.apply(remove_stopwords)\n",
        "\n",
        "    # Initialize Tokenizer\n",
        "    tokenizer = Tokenizer()\n",
        "\n",
        "    # Fit tokenizer on input texts\n",
        "    tokenizer.fit_on_texts(texts)\n",
        "\n",
        "    # Convert texts to sequences of integers\n",
        "    sequences = tokenizer.texts_to_sequences(texts)\n",
        "\n",
        "    # Pad sequences to a fixed length\n",
        "    padded_sequences = pad_sequences(sequences, maxlen)\n",
        "\n",
        "    return padded_sequences, tokenizer\n",
        "\n",
        "print(preprocessor(X_train)[0].shape)\n",
        "print(preprocessor(X_test)[0].shape)"
      ]
    },
    {
      "cell_type": "markdown",
      "metadata": {
        "id": "X52kECL43b-O"
      },
      "source": [
        "##3. Fit model on preprocessed data and save preprocessor function and model\n"
      ]
    },
    {
      "cell_type": "code",
      "execution_count": 9,
      "metadata": {
        "id": "NCbBf8j9ClYl",
        "colab": {
          "base_uri": "https://localhost:8080/"
        },
        "outputId": "e4f186dc-5594-4368-c989-e6d7fc6f6dbc"
      },
      "outputs": [
        {
          "output_type": "stream",
          "name": "stdout",
          "text": [
            "Epoch 1/30\n",
            "172/173 [============================>.] - ETA: 0s - loss: 0.6749 - accuracy: 0.6068\n",
            "Epoch 00001: val_accuracy improved from -inf to 0.14884, saving model to model_checkpoint.h5\n",
            "173/173 [==============================] - 8s 38ms/step - loss: 0.6751 - accuracy: 0.6064 - val_loss: 0.8455 - val_accuracy: 0.1488 - lr: 0.0010\n",
            "Epoch 2/30\n",
            "173/173 [==============================] - ETA: 0s - loss: 0.5819 - accuracy: 0.6537\n",
            "Epoch 00002: val_accuracy improved from 0.14884 to 0.54986, saving model to model_checkpoint.h5\n",
            "173/173 [==============================] - 6s 35ms/step - loss: 0.5819 - accuracy: 0.6537 - val_loss: 0.8475 - val_accuracy: 0.5499 - lr: 0.0010\n",
            "Epoch 3/30\n",
            "172/173 [============================>.] - ETA: 0s - loss: 0.2281 - accuracy: 0.9142\n",
            "Epoch 00003: val_accuracy improved from 0.54986 to 0.63656, saving model to model_checkpoint.h5\n",
            "173/173 [==============================] - 7s 39ms/step - loss: 0.2271 - accuracy: 0.9147 - val_loss: 0.9220 - val_accuracy: 0.6366 - lr: 0.0010\n",
            "Epoch 4/30\n",
            "172/173 [============================>.] - ETA: 0s - loss: 0.0555 - accuracy: 0.9873\n",
            "Epoch 00004: ReduceLROnPlateau reducing learning rate to 0.00010000000474974513.\n",
            "\n",
            "Epoch 00004: val_accuracy improved from 0.63656 to 0.65101, saving model to model_checkpoint.h5\n",
            "173/173 [==============================] - 6s 33ms/step - loss: 0.0555 - accuracy: 0.9874 - val_loss: 1.1529 - val_accuracy: 0.6510 - lr: 0.0010\n",
            "Epoch 00004: early stopping\n"
          ]
        }
      ],
      "source": [
        "from tensorflow.keras.layers import Dense, Embedding,Flatten, Dropout\n",
        "from tensorflow.keras.models import Sequential\n",
        "from tensorflow.python.keras.callbacks import ModelCheckpoint, EarlyStopping, ReduceLROnPlateau\n",
        "from tensorflow.keras.optimizers import Adam\n",
        "\n",
        "padded_sequences, tokenizer = preprocessor(X_train)\n",
        "\n",
        "# A basic deep learning model (max 5 layers)  # [1 Pts]\n",
        "# Define the model architecture\n",
        "model = Sequential()\n",
        "model.add(Embedding(input_dim=len(tokenizer.word_index) + 1, output_dim=64, input_length=40))\n",
        "model.add(Flatten())\n",
        "model.add(Dense(32, activation='relu'))\n",
        "model.add(Dropout(0.5))\n",
        "model.add(Dense(16, activation='relu'))\n",
        "model.add(Dropout(0.5))\n",
        "model.add(Dense(2, activation='softmax'))\n",
        "\n",
        "# Compile the model\n",
        "model.compile(optimizer=Adam(learning_rate=0.001), loss='categorical_crossentropy', metrics=['accuracy'])\n",
        "\n",
        "# Callbacks\n",
        "checkpoint_path = \"model_checkpoint.h5\"\n",
        "\n",
        "red_lr = ReduceLROnPlateau(monitor='val_loss', patience=3, verbose=1, factor=0.1) # dividing lr by 10 when val_accuracy fails to improve after 3 epochs\n",
        "mod_check = ModelCheckpoint(filepath=checkpoint_path, monitor='val_accuracy', save_best_only=True, verbose=1)\n",
        "early_stop = EarlyStopping(monitor='val_loss', patience=3, verbose=1)\n",
        "\n",
        "# Fit the model with validation split\n",
        "history = model.fit(padded_sequences, y_train,\n",
        "                    batch_size=32, epochs=30, validation_split=0.2,\n",
        "                    callbacks = [red_lr, mod_check, early_stop])"
      ]
    },
    {
      "cell_type": "code",
      "source": [
        "# Plot history [1 Pts]\n",
        "import matplotlib.pyplot as plt\n",
        "\n",
        "# Plot training & validation loss values\n",
        "plt.plot(history.history['loss'])\n",
        "plt.plot(history.history['val_loss'])\n",
        "plt.title('Model loss')\n",
        "plt.xlabel('Epoch')\n",
        "plt.ylabel('Loss')\n",
        "plt.legend(['Train', 'Validation'], loc='upper right')\n",
        "plt.show()\n",
        "\n",
        "# Plot training & validation accuracy values\n",
        "plt.plot(history.history['accuracy'])\n",
        "plt.plot(history.history['val_accuracy'])\n",
        "plt.title('Model accuracy')\n",
        "plt.xlabel('Epoch')\n",
        "plt.ylabel('Accuracy')\n",
        "plt.legend(['Train', 'Validation'], loc='lower right')\n",
        "plt.show()"
      ],
      "metadata": {
        "id": "KAgqdiT1FBvO",
        "colab": {
          "base_uri": "https://localhost:8080/",
          "height": 927
        },
        "outputId": "521c7c0f-60a9-4128-87f4-03ec7e04de0e"
      },
      "execution_count": 10,
      "outputs": [
        {
          "output_type": "display_data",
          "data": {
            "text/plain": [
              "<Figure size 640x480 with 1 Axes>"
            ],
            "image/png": "[encoded data removed]"
          },
          "metadata": {}
        },
        {
          "output_type": "display_data",
          "data": {
            "text/plain": [
              "<Figure size 640x480 with 1 Axes>"
            ],
            "image/png": "[encoded data removed]"
          },
          "metadata": {}
        }
      ]
    },
    {
      "cell_type": "markdown",
      "metadata": {
        "id": "zmJAnmO-5AcU"
      },
      "source": [
        "#### Save preprocessor function to local \"preprocessor.zip\" file"
      ]
    },
    {
      "cell_type": "code",
      "execution_count": null,
      "metadata": {
        "id": "4VGacc0LDaMA"
      },
      "outputs": [],
      "source": [
        "import aimodelshare as ai\n",
        "ai.export_preprocessor(preprocessor,\"preprocessor.zip\")"
      ]
    },
    {
      "cell_type": "markdown",
      "metadata": {
        "id": "oOWBa8Cv5LdL"
      },
      "source": [
        "#### Save model to local \".onnx\" file"
      ]
    },
    {
      "cell_type": "code",
      "execution_count": 11,
      "metadata": {
        "id": "pEhvnRiQDlY5"
      },
      "outputs": [],
      "source": [
        "# Save keras model to local ONNX file\n",
        "from aimodelshare.aimsonnx import model_to_onnx\n",
        "\n",
        "onnx_model = model_to_onnx(model, framework='keras',\n",
        "                           transfer_learning=False,\n",
        "                           deep_learning=True)\n",
        "\n",
        "with open(\"model.onnx\", \"wb\") as f:\n",
        "    f.write(onnx_model.SerializeToString())"
      ]
    },
    {
      "cell_type": "markdown",
      "metadata": {
        "id": "gHWkAzvX3m8O"
      },
      "source": [
        "## 4. Generate predictions from X_test data and submit model to competition\n"
      ]
    },
    {
      "cell_type": "code",
      "execution_count": null,
      "metadata": {
        "id": "RtgkM02MDpkO"
      },
      "outputs": [],
      "source": [
        "#Set credentials using modelshare.org username/password\n",
        "\n",
        "from aimodelshare.aws import set_credentials\n",
        "\n",
        "apiurl=\"https://rlxjxnoql9.execute-api.us-east-1.amazonaws.com/prod/m\" #This is the unique rest api that powers this specific Playground\n",
        "\n",
        "set_credentials(apiurl=apiurl)"
      ]
    },
    {
      "cell_type": "code",
      "execution_count": 13,
      "metadata": {
        "id": "fKNGSww8EGgi"
      },
      "outputs": [],
      "source": [
        "#Instantiate Competition\n",
        "\n",
        "mycompetition= ai.Competition(apiurl)"
      ]
    },
    {
      "cell_type": "code",
      "execution_count": null,
      "metadata": {
        "id": "_Ql4wksyEUnP"
      },
      "outputs": [],
      "source": [
        "#Submit Model 1:\n",
        "\n",
        "# [1 Pts]\n",
        "\n",
        "#-- Generate predicted y values on x_test (Model 1)\n",
        "prediction_labels = model.predict(preprocessor(X_test)[0])\n",
        "\n",
        "# extract correct prediction labels\n",
        "model_filepath = \"model.onnx\"\n",
        "preprocessor_filepath = \"preprocessor.zip\"\n",
        "\n",
        "# Submit Model 1 to Competition Leaderboard\n",
        "mycompetition.submit_model(model = \"model.onnx\",\n",
        "                           preprocessor=\"preprocessor.zip\",\n",
        "                           prediction_submission=prediction_labels)"
      ]
    },
    {
      "cell_type": "markdown",
      "metadata": {
        "id": "bwNKs0wP4r5s"
      },
      "source": [
        "## 5. Repeat submission process to improve place on leaderboard\n"
      ]
    },
    {
      "cell_type": "code",
      "execution_count": 20,
      "metadata": {
        "id": "FgSs5PAtPCZH",
        "colab": {
          "base_uri": "https://localhost:8080/"
        },
        "outputId": "2287475b-0a8a-40f3-a51a-198db993978c"
      },
      "outputs": [
        {
          "output_type": "stream",
          "name": "stdout",
          "text": [
            "Epoch 1/30\n",
            "173/173 [==============================] - ETA: 0s - loss: 0.6454 - accuracy: 0.6340\n",
            "Epoch 00001: val_accuracy did not improve from 0.65101\n",
            "173/173 [==============================] - 31s 118ms/step - loss: 0.6454 - accuracy: 0.6340 - val_loss: 0.7060 - val_accuracy: 0.5715 - lr: 0.0010\n",
            "Epoch 2/30\n",
            "173/173 [==============================] - ETA: 0s - loss: 0.3627 - accuracy: 0.8508\n",
            "Epoch 00002: val_accuracy improved from 0.65101 to 0.69870, saving model to model_checkpoint.h5\n",
            "173/173 [==============================] - 22s 126ms/step - loss: 0.3627 - accuracy: 0.8508 - val_loss: 0.6977 - val_accuracy: 0.6987 - lr: 0.0010\n",
            "Epoch 3/30\n",
            "173/173 [==============================] - ETA: 0s - loss: 0.1499 - accuracy: 0.9487\n",
            "Epoch 00003: val_accuracy improved from 0.69870 to 0.72110, saving model to model_checkpoint.h5\n",
            "173/173 [==============================] - 13s 77ms/step - loss: 0.1499 - accuracy: 0.9487 - val_loss: 0.8696 - val_accuracy: 0.7211 - lr: 0.0010\n",
            "Epoch 4/30\n",
            "173/173 [==============================] - ETA: 0s - loss: 0.0739 - accuracy: 0.9762\n",
            "Epoch 00004: val_accuracy did not improve from 0.72110\n",
            "173/173 [==============================] - 17s 99ms/step - loss: 0.0739 - accuracy: 0.9762 - val_loss: 1.4206 - val_accuracy: 0.6749 - lr: 0.0010\n",
            "Epoch 5/30\n",
            "173/173 [==============================] - ETA: 0s - loss: 0.0429 - accuracy: 0.9855\n",
            "Epoch 00005: ReduceLROnPlateau reducing learning rate to 0.00010000000474974513.\n",
            "\n",
            "Epoch 00005: val_accuracy improved from 0.72110 to 0.72399, saving model to model_checkpoint.h5\n",
            "173/173 [==============================] - 13s 74ms/step - loss: 0.0429 - accuracy: 0.9855 - val_loss: 1.2366 - val_accuracy: 0.7240 - lr: 0.0010\n",
            "Epoch 00005: early stopping\n"
          ]
        }
      ],
      "source": [
        "# Train and submit model 2 using same preprocessor (note that you could save a new preprocessor, but we will use the same one for this example).\n",
        "from tensorflow.keras.models import Sequential\n",
        "from tensorflow.keras.layers import Dense, Embedding, LSTM, Flatten\n",
        "\n",
        "# Code an model with atleast 3 LSTM layers (with Embedding Layer) # [1 Pts]\n",
        "# Define the model architecture\n",
        "model2 = Sequential()\n",
        "model2.add(Embedding(input_dim=len(tokenizer.word_index) + 1, output_dim=64, input_length=40))\n",
        "model2.add(LSTM(64, return_sequences=True))\n",
        "model2.add(Dropout(0.5))\n",
        "model2.add(LSTM(32, return_sequences=True))\n",
        "model2.add(Dropout(0.5))\n",
        "model2.add(LSTM(16))\n",
        "model2.add(Dropout(0.5))\n",
        "model2.add(Dense(2, activation='softmax'))\n",
        "\n",
        "# Compile the model\n",
        "model2.compile(optimizer=Adam(learning_rate=0.001), loss='categorical_crossentropy', metrics=['accuracy'])\n",
        "\n",
        "# Fit the model with validation split\n",
        "history2 = model2.fit(padded_sequences, y_train,\n",
        "                      batch_size=32, epochs=30, validation_split=0.2,\n",
        "                      callbacks = [red_lr, mod_check, early_stop])"
      ]
    },
    {
      "cell_type": "code",
      "source": [
        "# Plot history [1 Pts]\n",
        "# Plot training & validation loss values\n",
        "plt.plot(history2.history['loss'])\n",
        "plt.plot(history2.history['val_loss'])\n",
        "plt.title('Model loss')\n",
        "plt.xlabel('Epoch')\n",
        "plt.ylabel('Loss')\n",
        "plt.legend(['Train', 'Validation'], loc='upper right')\n",
        "plt.show()\n",
        "\n",
        "# Plot training & validation accuracy values\n",
        "plt.plot(history2.history['accuracy'])\n",
        "plt.plot(history2.history['val_accuracy'])\n",
        "plt.title('Model accuracy')\n",
        "plt.xlabel('Epoch')\n",
        "plt.ylabel('Accuracy')\n",
        "plt.legend(['Train', 'Validation'], loc='lower right')\n",
        "plt.show()"
      ],
      "metadata": {
        "id": "8i_ivEC0FK8_",
        "colab": {
          "base_uri": "https://localhost:8080/",
          "height": 927
        },
        "outputId": "9d64fc2b-0341-41de-9d0a-424bc335687b"
      },
      "execution_count": 21,
      "outputs": [
        {
          "output_type": "display_data",
          "data": {
            "text/plain": [
              "<Figure size 640x480 with 1 Axes>"
            ],
            "image/png": "[encoded data removed]"
          },
          "metadata": {}
        },
        {
          "output_type": "display_data",
          "data": {
            "text/plain": [
              "<Figure size 640x480 with 1 Axes>"
            ],
            "image/png": "[encoded data removed]"
          },
          "metadata": {}
        }
      ]
    },
    {
      "cell_type": "markdown",
      "source": [
        "Does your model perform better or worse than your prior deep learning model? Why might that be the case?"
      ],
      "metadata": {
        "id": "jw7-1gh2FN_X"
      }
    },
    {
      "cell_type": "code",
      "source": [
        "# Answer [1 Pts]\n",
        "\n",
        "# this second model performs better, now with a validation accuracy of 0.72038\n",
        "  # compared to 0.68786 for the first. so, the difference is only marginal, and\n",
        "  # both models appear to be victims of overfitting, as the training accuracy\n",
        "  # quickly reaches 1. still, some benefits of the second model using LSTM is\n",
        "  # that it is intended to be used in situations where RNNs fail."
      ],
      "metadata": {
        "id": "Y-3tc90OFM1J"
      },
      "execution_count": null,
      "outputs": []
    },
    {
      "cell_type": "code",
      "execution_count": 22,
      "metadata": {
        "id": "aIdmSpYVPYAw"
      },
      "outputs": [],
      "source": [
        "# Save keras model to local ONNX file\n",
        "from aimodelshare.aimsonnx import model_to_onnx\n",
        "\n",
        "onnx_model = model_to_onnx(model2, framework='keras',\n",
        "                           transfer_learning=False,\n",
        "                           deep_learning=True)\n",
        "\n",
        "with open(\"model2.onnx\", \"wb\") as f:\n",
        "    f.write(onnx_model.SerializeToString())"
      ]
    },
    {
      "cell_type": "code",
      "execution_count": null,
      "metadata": {
        "id": "nszPPrfwPlUk"
      },
      "outputs": [],
      "source": [
        "#Submit Model 2:\n",
        "\n",
        "#-- Generate predicted y values (Model 2)\n",
        "prediction_labels = model.predict(preprocessor(X_test)[0])\n",
        "\n",
        "# extract correct prediction labels\n",
        "model_filepath = \"model2.onnx\"\n",
        "preprocessor_filepath = \"preprocessor.zip\"\n",
        "\n",
        "# Submit Model 2 to Competition Leaderboard\n",
        "mycompetition.submit_model(model = \"model2.onnx\",\n",
        "                           preprocessor=\"preprocessor.zip\",\n",
        "                           prediction_submission=prediction_labels)"
      ]
    },
    {
      "cell_type": "markdown",
      "metadata": {
        "id": "Pl67bOO-lz9k"
      },
      "source": [
        "## Tune model within range of hyperparameters with Keras Tuner\n",
        "\n",
        "\n",
        "*Consult [documentation](https://keras.io/guides/keras_tuner/getting_started/) to see full functionality.*"
      ]
    },
    {
      "cell_type": "code",
      "execution_count": null,
      "metadata": {
        "id": "MOGXwppct0KI"
      },
      "outputs": [],
      "source": [
        "! pip install keras_tuner"
      ]
    },
    {
      "cell_type": "code",
      "execution_count": null,
      "metadata": {
        "id": "O7o_zA3fv-ra"
      },
      "outputs": [],
      "source": [
        "#Separate validation data here\n",
        "from sklearn.model_selection import train_test_split\n",
        "X_train_split, X_val, y_train_split, y_val = train_test_split(\n",
        "     padded_sequences, y_train, test_size=0.2, random_state=42)"
      ]
    },
    {
      "cell_type": "code",
      "execution_count": null,
      "metadata": {
        "id": "olzZ7aposfwH",
        "colab": {
          "base_uri": "https://localhost:8080/"
        },
        "outputId": "602174ab-e2a0-4b91-e483-18066f129475"
      },
      "outputs": [
        {
          "output_type": "stream",
          "name": "stdout",
          "text": [
            "Trial 5 Complete [00h 02m 57s]\n",
            "val_accuracy: 0.7528901696205139\n",
            "\n",
            "Best val_accuracy So Far: 0.7666184902191162\n",
            "Total elapsed time: 00h 13m 22s\n"
          ]
        }
      ],
      "source": [
        "from tensorflow import keras\n",
        "from tensorflow.keras.models import Sequential\n",
        "from tensorflow.keras.layers import Dense, Embedding, LSTM, Flatten, Dropout\n",
        "import keras_tuner as kt\n",
        "\n",
        "# Define model structure & parameter search space with a function\n",
        "# code LSTM--based model with provision for searching hyperparameter space, return model  # [3 Pts]\n",
        "# Define the model structure with hyperparameters\n",
        "\n",
        "def build_model(hp):\n",
        "    model = Sequential()\n",
        "    model.add(Embedding(input_dim=len(tokenizer.word_index) + 1, output_dim=128, input_length=40))\n",
        "    for i in range(hp.Int('num_lstm_layers', 1, 3)):  # Number of LSTM layers (1 to 3)\n",
        "        model.add(LSTM(units=hp.Int(f'lstm_{i}_units', min_value=32, max_value=128, step=32), return_sequences=True))\n",
        "        model.add(Dropout(rate=hp.Float(f'dropout_{i}', min_value=0.2, max_value=0.5, step=0.1)))  # Dropout after each LSTM layer\n",
        "    model.add(LSTM(16))  # Final LSTM layer\n",
        "    model.add(Dropout(0.2))  # Dropout after the final LSTM layer\n",
        "    model.add(Dense(2, activation='softmax'))\n",
        "\n",
        "    model.compile(optimizer=Adam(learning_rate=0.001), loss='categorical_crossentropy', metrics=['accuracy'])\n",
        "    return model\n",
        "\n",
        "#initialize the keras search tuner (which will search through parameters)   # [3 Pts]\n",
        "# Define the following:\n",
        "#Your function that returns the model\n",
        "#objective to optimize\n",
        "#max number of trials to run during search\n",
        "#higher number reduces variance of results; guages model performance more accurately\n",
        "\n",
        "# Initialize the tuner\n",
        "tuner = kt.RandomSearch(\n",
        "    build_model,\n",
        "    objective='val_accuracy',\n",
        "    max_trials=5\n",
        ")\n",
        "\n",
        "# Run the tuner feeding it the validation data\n",
        "tuner.search(X_train_split, y_train_split,\n",
        "             validation_data=(X_val, y_val), epochs=30,\n",
        "             callbacks = [red_lr, mod_check, early_stop])"
      ]
    },
    {
      "cell_type": "code",
      "source": [
        "# [3 Pts]\n",
        "\n",
        "# Build model with best hyperparameters\n",
        "\n",
        "best_hps = tuner.get_best_hyperparameters(num_trials=2)  # Get the top 2 hyperparameters\n",
        "\n",
        "# Iterate over the top hyperparameters\n",
        "for hp in best_hps:\n",
        "    # Build the model with the best hyperparameters\n",
        "    tuned_model = build_model(hp)\n",
        "    # Fit the model with the entire dataset\n",
        "    tuned_model.fit(padded_sequences, y_train, epochs=30, batch_size=32, callbacks = [red_lr, mod_check, early_stop], validation_split=0.2)"
      ],
      "metadata": {
        "colab": {
          "base_uri": "https://localhost:8080/"
        },
        "id": "shXB9dfzafBV",
        "outputId": "8c536fc8-6ba0-4bda-b2d5-02b454854346"
      },
      "execution_count": null,
      "outputs": [
        {
          "output_type": "stream",
          "name": "stdout",
          "text": [
            "Epoch 1/30\n",
            "173/173 [==============================] - ETA: 0s - loss: 0.6124 - accuracy: 0.6628\n",
            "Epoch 00001: val_accuracy did not improve from 0.72110\n",
            "173/173 [==============================] - 49s 233ms/step - loss: 0.6124 - accuracy: 0.6628 - val_loss: 0.6602 - val_accuracy: 0.6163 - lr: 0.0010\n",
            "Epoch 2/30\n",
            "173/173 [==============================] - ETA: 0s - loss: 0.2785 - accuracy: 0.8895\n",
            "Epoch 00002: val_accuracy did not improve from 0.72110\n",
            "173/173 [==============================] - 24s 138ms/step - loss: 0.2785 - accuracy: 0.8895 - val_loss: 0.6484 - val_accuracy: 0.7088 - lr: 0.0010\n",
            "Epoch 3/30\n",
            "173/173 [==============================] - ETA: 0s - loss: 0.1019 - accuracy: 0.9626\n",
            "Epoch 00003: val_accuracy did not improve from 0.72110\n",
            "173/173 [==============================] - 24s 141ms/step - loss: 0.1019 - accuracy: 0.9626 - val_loss: 1.1386 - val_accuracy: 0.6850 - lr: 0.0010\n",
            "Epoch 4/30\n",
            "173/173 [==============================] - ETA: 0s - loss: 0.0456 - accuracy: 0.9857\n",
            "Epoch 00004: val_accuracy improved from 0.72110 to 0.73699, saving model to model_checkpoint.h5\n",
            "173/173 [==============================] - 25s 142ms/step - loss: 0.0456 - accuracy: 0.9857 - val_loss: 0.8900 - val_accuracy: 0.7370 - lr: 0.0010\n",
            "Epoch 5/30\n",
            "173/173 [==============================] - ETA: 0s - loss: 0.0296 - accuracy: 0.9919\n",
            "Epoch 00005: ReduceLROnPlateau reducing learning rate to 0.00010000000474974513.\n",
            "\n",
            "Epoch 00005: val_accuracy did not improve from 0.73699\n",
            "173/173 [==============================] - 25s 144ms/step - loss: 0.0296 - accuracy: 0.9919 - val_loss: 1.2515 - val_accuracy: 0.7341 - lr: 0.0010\n",
            "Epoch 00005: early stopping\n",
            "Epoch 1/30\n",
            "173/173 [==============================] - ETA: 0s - loss: 0.6108 - accuracy: 0.6575\n",
            "Epoch 00001: val_accuracy did not improve from 0.73699\n",
            "173/173 [==============================] - 21s 83ms/step - loss: 0.6108 - accuracy: 0.6575 - val_loss: 0.6455 - val_accuracy: 0.7016 - lr: 0.0010\n",
            "Epoch 2/30\n",
            "173/173 [==============================] - ETA: 0s - loss: 0.2933 - accuracy: 0.8797\n",
            "Epoch 00002: val_accuracy improved from 0.73699 to 0.75361, saving model to model_checkpoint.h5\n",
            "173/173 [==============================] - 13s 75ms/step - loss: 0.2933 - accuracy: 0.8797 - val_loss: 0.5703 - val_accuracy: 0.7536 - lr: 0.0010\n",
            "Epoch 3/30\n",
            "173/173 [==============================] - ETA: 0s - loss: 0.1212 - accuracy: 0.9576\n",
            "Epoch 00003: val_accuracy did not improve from 0.75361\n",
            "173/173 [==============================] - 13s 74ms/step - loss: 0.1212 - accuracy: 0.9576 - val_loss: 0.9227 - val_accuracy: 0.6842 - lr: 0.0010\n",
            "Epoch 4/30\n",
            "173/173 [==============================] - ETA: 0s - loss: 0.0546 - accuracy: 0.9825\n",
            "Epoch 00004: val_accuracy did not improve from 0.75361\n",
            "173/173 [==============================] - 13s 74ms/step - loss: 0.0546 - accuracy: 0.9825 - val_loss: 1.2826 - val_accuracy: 0.6987 - lr: 0.0010\n",
            "Epoch 5/30\n",
            "173/173 [==============================] - ETA: 0s - loss: 0.0303 - accuracy: 0.9904\n",
            "Epoch 00005: ReduceLROnPlateau reducing learning rate to 0.00010000000474974513.\n",
            "\n",
            "Epoch 00005: val_accuracy did not improve from 0.75361\n",
            "173/173 [==============================] - 13s 74ms/step - loss: 0.0303 - accuracy: 0.9904 - val_loss: 1.3397 - val_accuracy: 0.7204 - lr: 0.0010\n",
            "Epoch 00005: early stopping\n"
          ]
        }
      ]
    },
    {
      "cell_type": "markdown",
      "source": [
        "What were the best hyperparameters found? Why might that be performing better than others?"
      ],
      "metadata": {
        "id": "51kUa-IJFmpd"
      }
    },
    {
      "cell_type": "code",
      "source": [
        "# Answer [2 Pts]\n",
        "for hp in best_hps:\n",
        "  print(hp.values)\n",
        "\n",
        "# as seen below, the two models with the best hyperparams have some very similar\n",
        "  # features, such as the 2 lstm layers, first dropout layer at 0.2, and the\n",
        "  # second lstm layer with 32 units. of these two best models, the second performed\n",
        "  # better, and it has additional hyperparams that may have allowed for this to\n",
        "  # be the case."
      ],
      "metadata": {
        "id": "fKrheWsOF0ab",
        "colab": {
          "base_uri": "https://localhost:8080/"
        },
        "outputId": "11f51f08-ffce-46b5-df82-9ba9639a5cc6"
      },
      "execution_count": null,
      "outputs": [
        {
          "output_type": "stream",
          "name": "stdout",
          "text": [
            "{'num_lstm_layers': 2, 'lstm_0_units': 128, 'dropout_0': 0.2, 'lstm_1_units': 32, 'dropout_1': 0.2}\n",
            "{'num_lstm_layers': 2, 'lstm_0_units': 32, 'dropout_0': 0.2, 'lstm_1_units': 32, 'dropout_1': 0.4, 'lstm_2_units': 96, 'dropout_2': 0.30000000000000004}\n"
          ]
        }
      ]
    },
    {
      "cell_type": "code",
      "execution_count": null,
      "metadata": {
        "id": "HvLuIvOjHLH2"
      },
      "outputs": [],
      "source": [
        "# Save keras model to local ONNX file\n",
        "from aimodelshare.aimsonnx import model_to_onnx\n",
        "\n",
        "onnx_model = model_to_onnx(tuned_model, framework='keras',\n",
        "                           transfer_learning=False,\n",
        "                           deep_learning=True)\n",
        "\n",
        "with open(\"tuned_model.onnx\", \"wb\") as f:\n",
        "    f.write(onnx_model.SerializeToString())"
      ]
    },
    {
      "cell_type": "code",
      "execution_count": null,
      "metadata": {
        "id": "sMidHABfHVN7"
      },
      "outputs": [],
      "source": [
        "#Submit Model 3:\n",
        "\n",
        "#-- Generate predicted y values (Model 3)\n",
        "prediction_labels = tuned_model.predict(preprocessor(X_test))\n",
        "\n",
        "# extract correct prediction labels\n",
        "model_filepath = \"tuned_model.onnx\"\n",
        "preprocessor_filepath = \"preprocessor.zip\"\n",
        "\n",
        "# Submit Model 3 to Competition Leaderboard\n",
        "mycompetition.submit_model(model = \"tuned_model.onnx\",\n",
        "                           preprocessor=\"preprocessor.zip\",\n",
        "                           prediction_submission=prediction_labels)"
      ]
    },
    {
      "cell_type": "markdown",
      "source": [
        "## 3 more models [30 Pts]"
      ],
      "metadata": {
        "id": "-nU8VR9uT3OJ"
      }
    },
    {
      "cell_type": "markdown",
      "source": [
        "Train three more prediction models to try to predict the SST sentiment\n",
        "dataset well.\n",
        "\n",
        "○ Use Conv1d layers in first model [ 2 Pts]\n",
        "\n",
        "○ Use Transfer learning with Glove Embeddings for 2nd model [10 Pts]\n",
        "\n",
        "○ Third model can be any Transfer learning model of your choice (Transformer architecture required, eg. BERT and related) [10 Pts]"
      ],
      "metadata": {
        "id": "eefOmAIaJYnO"
      }
    },
    {
      "cell_type": "code",
      "source": [
        "from sklearn.model_selection import train_test_split\n",
        "\n",
        "padded_sequences, tokenizer = preprocessor(X_train)\n",
        "\n",
        "X_train_split, X_val, y_train_split, y_val = train_test_split(\n",
        "     padded_sequences, y_train, test_size=0.2, random_state=42)\n",
        "\n",
        "from tensorflow.python.keras.callbacks import ModelCheckpoint, EarlyStopping, ReduceLROnPlateau\n",
        "\n",
        "checkpoint_path = \"model_checkpoint.h5\"\n",
        "\n",
        "red_lr = ReduceLROnPlateau(monitor='val_loss', patience=3, verbose=1, factor=0.1) # dividing lr by 10 when val_accuracy fails to improve after 3 epochs\n",
        "mod_check = ModelCheckpoint(filepath=checkpoint_path, monitor='val_accuracy', save_best_only=True, verbose=1)\n",
        "early_stop = EarlyStopping(monitor='val_loss', patience=3, verbose=1)"
      ],
      "metadata": {
        "id": "xCElu0zLhxIS"
      },
      "execution_count": 24,
      "outputs": []
    },
    {
      "cell_type": "code",
      "source": [
        "# Model 1\n",
        "from tensorflow.keras.layers import Conv1D, GlobalMaxPooling1D\n",
        "from tensorflow import keras\n",
        "from tensorflow.keras.models import Sequential\n",
        "from tensorflow.keras.layers import Dense, Embedding, LSTM, Flatten, Dropout\n",
        "import keras_tuner as kt\n",
        "\n",
        "def build_model_conv1d(hp):\n",
        "    model = Sequential()\n",
        "    model.add(Embedding(input_dim=len(tokenizer.word_index) + 1, output_dim=128, input_length=40))\n",
        "\n",
        "    # Add Conv1D layers\n",
        "    for i in range(hp.Int('num_conv1d_layers', 1, 3)):  # Number of Conv1D layers (1 to 3)\n",
        "        model.add(Conv1D(filters=hp.Int(f'conv1d_{i}_filters', min_value=32, max_value=128, step=32),\n",
        "                         kernel_size=hp.Int(f'conv1d_{i}_kernel_size', min_value=3, max_value=5, step=2),\n",
        "                         activation='relu'))\n",
        "        model.add(GlobalMaxPooling1D())  # Apply global max pooling after each Conv1D layer\n",
        "\n",
        "    # Add Dense layers\n",
        "    model.add(Dense(64, activation='relu'))\n",
        "    model.add(Dropout(0.5))  # Dropout layer for regularization\n",
        "    model.add(Dense(32, activation='relu'))\n",
        "    model.add(Dense(2, activation='softmax'))\n",
        "\n",
        "    model.compile(optimizer=Adam(learning_rate=0.001), loss='categorical_crossentropy', metrics=['accuracy'])\n",
        "    return model\n",
        "\n",
        "# Initialize the tuner\n",
        "tuner = kt.RandomSearch(\n",
        "    build_model_conv1d,\n",
        "    objective='val_accuracy',\n",
        "    max_trials=5\n",
        ")\n",
        "\n",
        "# Run the tuner\n",
        "tuner.search(X_train_split, y_train_split, validation_data=(X_val, y_val), epochs=30, callbacks = [red_lr, mod_check, early_stop])\n",
        "\n",
        "# Build model with best hyperparameters\n",
        "\n",
        "best_hps = tuner.get_best_hyperparameters(num_trials=2)  # Get the top 2 hyperparameters\n",
        "\n",
        "# Iterate over the top hyperparameters\n",
        "for hp in best_hps:\n",
        "    # Build the model with the best hyperparameters\n",
        "    model = build_model_conv1d(hp)\n",
        "    # Fit the model with the entire dataset\n",
        "    model.fit(padded_sequences, y_train, epochs=30, batch_size=32, callbacks = [red_lr, mod_check, early_stop], validation_split=0.2)"
      ],
      "metadata": {
        "id": "xNzUJrsxJlU5",
        "colab": {
          "base_uri": "https://localhost:8080/"
        },
        "outputId": "cfd4d10d-d629-4792-e823-fce7c1f9cfa2"
      },
      "execution_count": 25,
      "outputs": [
        {
          "output_type": "stream",
          "name": "stdout",
          "text": [
            "Trial 5 Complete [00h 01m 11s]\n",
            "val_accuracy: 0.772398829460144\n",
            "\n",
            "Best val_accuracy So Far: 0.772398829460144\n",
            "Total elapsed time: 00h 04m 05s\n",
            "Epoch 1/30\n",
            "173/173 [==============================] - ETA: 0s - loss: 0.6550 - accuracy: 0.6127\n",
            "Epoch 00001: val_accuracy improved from -inf to 0.28613, saving model to model_checkpoint.h5\n",
            "173/173 [==============================] - 19s 97ms/step - loss: 0.6550 - accuracy: 0.6127 - val_loss: 0.8406 - val_accuracy: 0.2861 - lr: 0.0010\n",
            "Epoch 2/30\n",
            "173/173 [==============================] - ETA: 0s - loss: 0.3562 - accuracy: 0.8497\n",
            "Epoch 00002: val_accuracy improved from 0.28613 to 0.65462, saving model to model_checkpoint.h5\n",
            "173/173 [==============================] - 13s 72ms/step - loss: 0.3562 - accuracy: 0.8497 - val_loss: 0.7814 - val_accuracy: 0.6546 - lr: 0.0010\n",
            "Epoch 3/30\n",
            "173/173 [==============================] - ETA: 0s - loss: 0.0666 - accuracy: 0.9796\n",
            "Epoch 00003: val_accuracy improved from 0.65462 to 0.66980, saving model to model_checkpoint.h5\n",
            "173/173 [==============================] - 11s 66ms/step - loss: 0.0666 - accuracy: 0.9796 - val_loss: 1.0057 - val_accuracy: 0.6698 - lr: 0.0010\n",
            "Epoch 4/30\n",
            "173/173 [==============================] - ETA: 0s - loss: 0.0167 - accuracy: 0.9958\n",
            "Epoch 00004: val_accuracy improved from 0.66980 to 0.70665, saving model to model_checkpoint.h5\n",
            "173/173 [==============================] - 16s 95ms/step - loss: 0.0167 - accuracy: 0.9958 - val_loss: 1.1250 - val_accuracy: 0.7066 - lr: 0.0010\n",
            "Epoch 5/30\n",
            "173/173 [==============================] - ETA: 0s - loss: 0.0066 - accuracy: 0.9980\n",
            "Epoch 00005: ReduceLROnPlateau reducing learning rate to 0.00010000000474974513.\n",
            "\n",
            "Epoch 00005: val_accuracy improved from 0.70665 to 0.72038, saving model to model_checkpoint.h5\n",
            "173/173 [==============================] - 15s 87ms/step - loss: 0.0066 - accuracy: 0.9980 - val_loss: 1.2704 - val_accuracy: 0.7204 - lr: 0.0010\n",
            "Epoch 00005: early stopping\n",
            "Epoch 1/30\n",
            "173/173 [==============================] - ETA: 0s - loss: 0.6351 - accuracy: 0.6349\n",
            "Epoch 00001: val_accuracy did not improve from 0.72038\n",
            "173/173 [==============================] - 15s 75ms/step - loss: 0.6351 - accuracy: 0.6349 - val_loss: 0.6848 - val_accuracy: 0.6741 - lr: 0.0010\n",
            "Epoch 2/30\n",
            "172/173 [============================>.] - ETA: 0s - loss: 0.3306 - accuracy: 0.8656\n",
            "Epoch 00002: val_accuracy improved from 0.72038 to 0.72399, saving model to model_checkpoint.h5\n",
            "173/173 [==============================] - 9s 51ms/step - loss: 0.3299 - accuracy: 0.8660 - val_loss: 0.6298 - val_accuracy: 0.7240 - lr: 0.0010\n",
            "Epoch 3/30\n",
            "173/173 [==============================] - ETA: 0s - loss: 0.0632 - accuracy: 0.9809\n",
            "Epoch 00003: val_accuracy improved from 0.72399 to 0.74711, saving model to model_checkpoint.h5\n",
            "173/173 [==============================] - 12s 71ms/step - loss: 0.0632 - accuracy: 0.9809 - val_loss: 0.7456 - val_accuracy: 0.7471 - lr: 0.0010\n",
            "Epoch 4/30\n",
            "173/173 [==============================] - ETA: 0s - loss: 0.0140 - accuracy: 0.9966\n",
            "Epoch 00004: val_accuracy did not improve from 0.74711\n",
            "173/173 [==============================] - 19s 112ms/step - loss: 0.0140 - accuracy: 0.9966 - val_loss: 1.1823 - val_accuracy: 0.7146 - lr: 0.0010\n",
            "Epoch 5/30\n",
            "173/173 [==============================] - ETA: 0s - loss: 0.0068 - accuracy: 0.9975\n",
            "Epoch 00005: ReduceLROnPlateau reducing learning rate to 0.00010000000474974513.\n",
            "\n",
            "Epoch 00005: val_accuracy did not improve from 0.74711\n",
            "173/173 [==============================] - 13s 77ms/step - loss: 0.0068 - accuracy: 0.9975 - val_loss: 1.4811 - val_accuracy: 0.6777 - lr: 0.0010\n",
            "Epoch 00005: early stopping\n"
          ]
        }
      ]
    },
    {
      "cell_type": "code",
      "source": [
        "# saving model 1\n",
        "\n",
        "model.save(\"model_conv.h5\", save_format=\"h5\")"
      ],
      "metadata": {
        "id": "svn_2Gg34SaT"
      },
      "execution_count": null,
      "outputs": []
    },
    {
      "cell_type": "code",
      "source": [
        "!wget http://nlp.stanford.edu/data/glove.6B.zip\n",
        "\n",
        "import zipfile\n",
        "zip_ref = zipfile.ZipFile(\"glove.6B.zip\", 'r')\n",
        "zip_ref.extractall(\".\")\n",
        "zip_ref.close()"
      ],
      "metadata": {
        "id": "U6Z2t2wpg52g",
        "colab": {
          "base_uri": "https://localhost:8080/"
        },
        "outputId": "ba2f625a-801a-405e-ceb9-a51ac573fa44"
      },
      "execution_count": 26,
      "outputs": [
        {
          "output_type": "stream",
          "name": "stdout",
          "text": [
            "--2024-05-01 03:13:11--  http://nlp.stanford.edu/data/glove.6B.zip\n",
            "Resolving nlp.stanford.edu (nlp.stanford.edu)... 171.64.67.140\n",
            "Connecting to nlp.stanford.edu (nlp.stanford.edu)|171.64.67.140|:80... connected.\n",
            "HTTP request sent, awaiting response... 302 Found\n",
            "Location: https://nlp.stanford.edu/data/glove.6B.zip [following]\n",
            "--2024-05-01 03:13:11--  https://nlp.stanford.edu/data/glove.6B.zip\n",
            "Connecting to nlp.stanford.edu (nlp.stanford.edu)|171.64.67.140|:443... connected.\n",
            "HTTP request sent, awaiting response... 301 Moved Permanently\n",
            "Location: https://downloads.cs.stanford.edu/nlp/data/glove.6B.zip [following]\n",
            "--2024-05-01 03:13:12--  https://downloads.cs.stanford.edu/nlp/data/glove.6B.zip\n",
            "Resolving downloads.cs.stanford.edu (downloads.cs.stanford.edu)... 171.64.64.22\n",
            "Connecting to downloads.cs.stanford.edu (downloads.cs.stanford.edu)|171.64.64.22|:443... connected.\n",
            "HTTP request sent, awaiting response... 200 OK\n",
            "Length: 862182613 (822M) [application/zip]\n",
            "Saving to: ‘glove.6B.zip.1’\n",
            "\n",
            "glove.6B.zip.1      100%[===================>] 822.24M  5.09MB/s    in 2m 39s  \n",
            "\n",
            "2024-05-01 03:15:52 (5.16 MB/s) - ‘glove.6B.zip.1’ saved [862182613/862182613]\n",
            "\n"
          ]
        }
      ]
    },
    {
      "cell_type": "code",
      "source": [
        "# Model 2\n",
        "from tensorflow.keras.initializers import Constant\n",
        "from tensorflow import keras\n",
        "from tensorflow.keras.models import Sequential\n",
        "from tensorflow.keras.layers import Dense, Embedding, LSTM, Flatten, Dropout\n",
        "import keras_tuner as kt\n",
        "from keras.optimizers import Adam\n",
        "\n",
        "# Load pre-trained GloVe embeddings\n",
        "embeddings_index = {}\n",
        "embedding_dim = 100  # Assuming you want to use 100-dimensional GloVe embeddings\n",
        "glove_file = 'glove.6B.100d.txt'  # Path to the GloVe embeddings file\n",
        "\n",
        "with open(glove_file, 'r', encoding='utf-8') as f:\n",
        "    for line in f:\n",
        "        values = line.split()\n",
        "        word = values[0]\n",
        "        coefs = np.asarray(values[1:], dtype='float32')\n",
        "        embeddings_index[word] = coefs\n",
        "\n",
        "# Prepare embedding matrix\n",
        "num_words = len(tokenizer.word_index) + 1\n",
        "embedding_matrix = np.zeros((num_words, embedding_dim))\n",
        "\n",
        "for word, i in tokenizer.word_index.items():\n",
        "    embedding_vector = embeddings_index.get(word)\n",
        "    if embedding_vector is not None:\n",
        "        embedding_matrix[i] = embedding_vector\n",
        "\n",
        "# Define the model architecture\n",
        "def build_model_glove(hp):\n",
        "    model = Sequential()\n",
        "    model.add(Embedding(input_dim=embedding_matrix.shape[0], output_dim=embedding_matrix.shape[1],\n",
        "                        embeddings_initializer=Constant(embedding_matrix),\n",
        "                        input_length=40, trainable=False))  # Use pre-trained GloVe embeddings\n",
        "\n",
        "    for i in range(hp.Int('num_lstm_layers', 1, 3)):  # Number of LSTM layers (1 to 3)\n",
        "        model.add(LSTM(units=hp.Int(f'lstm_{i}_units', min_value=32, max_value=128, step=32),\n",
        "                       return_sequences=True))\n",
        "        model.add(Dropout(rate=hp.Float(f'dropout_{i}', min_value=0.2, max_value=0.5, step=0.1)))  # Dropout after each LSTM layer\n",
        "\n",
        "    model.add(LSTM(16))  # Final LSTM layer\n",
        "    model.add(Dropout(0.2))  # Dropout after the final LSTM layer\n",
        "    model.add(Dense(2, activation='softmax'))\n",
        "\n",
        "    model.compile(optimizer=Adam(learning_rate=0.001), loss='categorical_crossentropy', metrics=['accuracy'])\n",
        "    return model\n",
        "\n",
        "# Initialize the tuner\n",
        "tuner = kt.RandomSearch(\n",
        "    build_model_glove,\n",
        "    objective='val_accuracy',\n",
        "    max_trials=5\n",
        ")\n",
        "\n",
        "# Run the tuner\n",
        "tuner.search(X_train_split, y_train_split,\n",
        "             validation_data=(X_val, y_val), epochs=30,\n",
        "             callbacks = [red_lr, mod_check, early_stop])\n",
        "\n",
        "# Build model with best hyperparameters\n",
        "\n",
        "best_hps = tuner.get_best_hyperparameters(num_trials=2)  # Get the top 2 hyperparameters\n",
        "\n",
        "# Iterate over the top hyperparameters\n",
        "for hp in best_hps:\n",
        "    # Build the model with the best hyperparameters\n",
        "    model = build_model_glove(hp)\n",
        "    # Fit the model with the entire dataset\n",
        "    model.fit(padded_sequences, y_train, epochs=30, batch_size=32, callbacks = [red_lr, mod_check, early_stop], validation_split=0.2)"
      ],
      "metadata": {
        "id": "kYqWJ8VdJ_kE",
        "colab": {
          "base_uri": "https://localhost:8080/"
        },
        "outputId": "a2e30d2b-b74f-441e-cd71-f4215c104933"
      },
      "execution_count": 27,
      "outputs": [
        {
          "output_type": "stream",
          "name": "stdout",
          "text": [
            "Reloading Tuner from ./untitled_project/tuner0.json\n",
            "Epoch 1/30\n",
            "173/173 [==============================] - ETA: 0s - loss: 0.5800 - accuracy: 0.6855\n",
            "Epoch 00001: val_accuracy improved from 0.74711 to 0.77601, saving model to model_checkpoint.h5\n",
            "173/173 [==============================] - 29s 105ms/step - loss: 0.5800 - accuracy: 0.6855 - val_loss: 0.5535 - val_accuracy: 0.7760 - lr: 0.0010\n",
            "Epoch 2/30\n",
            "172/173 [============================>.] - ETA: 0s - loss: 0.4953 - accuracy: 0.7624\n",
            "Epoch 00002: val_accuracy did not improve from 0.77601\n",
            "173/173 [==============================] - 10s 57ms/step - loss: 0.4950 - accuracy: 0.7628 - val_loss: 0.5576 - val_accuracy: 0.7493 - lr: 0.0010\n",
            "Epoch 3/30\n",
            "173/173 [==============================] - ETA: 0s - loss: 0.4636 - accuracy: 0.7758\n",
            "Epoch 00003: val_accuracy improved from 0.77601 to 0.77890, saving model to model_checkpoint.h5\n",
            "173/173 [==============================] - 18s 104ms/step - loss: 0.4636 - accuracy: 0.7758 - val_loss: 0.5170 - val_accuracy: 0.7789 - lr: 0.0010\n",
            "Epoch 4/30\n",
            "173/173 [==============================] - ETA: 0s - loss: 0.4350 - accuracy: 0.7953\n",
            "Epoch 00004: val_accuracy did not improve from 0.77890\n",
            "173/173 [==============================] - 12s 68ms/step - loss: 0.4350 - accuracy: 0.7953 - val_loss: 0.5417 - val_accuracy: 0.7522 - lr: 0.0010\n",
            "Epoch 5/30\n",
            "173/173 [==============================] - ETA: 0s - loss: 0.4088 - accuracy: 0.8145\n",
            "Epoch 00005: val_accuracy did not improve from 0.77890\n",
            "173/173 [==============================] - 12s 72ms/step - loss: 0.4088 - accuracy: 0.8145 - val_loss: 0.6116 - val_accuracy: 0.6973 - lr: 0.0010\n",
            "Epoch 6/30\n",
            "173/173 [==============================] - ETA: 0s - loss: 0.3914 - accuracy: 0.8194\n",
            "Epoch 00006: ReduceLROnPlateau reducing learning rate to 0.00010000000474974513.\n",
            "\n",
            "Epoch 00006: val_accuracy did not improve from 0.77890\n",
            "173/173 [==============================] - 11s 66ms/step - loss: 0.3914 - accuracy: 0.8194 - val_loss: 0.5763 - val_accuracy: 0.7283 - lr: 0.0010\n",
            "Epoch 00006: early stopping\n",
            "Epoch 1/30\n",
            "172/173 [============================>.] - ETA: 0s - loss: 0.5846 - accuracy: 0.6937\n",
            "Epoch 00001: val_accuracy did not improve from 0.77890\n",
            "173/173 [==============================] - 17s 58ms/step - loss: 0.5857 - accuracy: 0.6933 - val_loss: 0.6695 - val_accuracy: 0.6539 - lr: 0.0010\n",
            "Epoch 2/30\n",
            "172/173 [============================>.] - ETA: 0s - loss: 0.4903 - accuracy: 0.7676\n",
            "Epoch 00002: val_accuracy did not improve from 0.77890\n",
            "173/173 [==============================] - 6s 34ms/step - loss: 0.4914 - accuracy: 0.7672 - val_loss: 0.6216 - val_accuracy: 0.7016 - lr: 0.0010\n",
            "Epoch 3/30\n",
            "173/173 [==============================] - ETA: 0s - loss: 0.4625 - accuracy: 0.7789\n",
            "Epoch 00003: val_accuracy did not improve from 0.77890\n",
            "173/173 [==============================] - 9s 54ms/step - loss: 0.4625 - accuracy: 0.7789 - val_loss: 0.6137 - val_accuracy: 0.6994 - lr: 0.0010\n",
            "Epoch 4/30\n",
            "173/173 [==============================] - ETA: 0s - loss: 0.4355 - accuracy: 0.7966\n",
            "Epoch 00004: val_accuracy improved from 0.77890 to 0.80347, saving model to model_checkpoint.h5\n",
            "173/173 [==============================] - 17s 101ms/step - loss: 0.4355 - accuracy: 0.7966 - val_loss: 0.4863 - val_accuracy: 0.8035 - lr: 0.0010\n",
            "Epoch 5/30\n",
            "173/173 [==============================] - ETA: 0s - loss: 0.4092 - accuracy: 0.8082\n",
            "Epoch 00005: val_accuracy did not improve from 0.80347\n",
            "173/173 [==============================] - 15s 89ms/step - loss: 0.4092 - accuracy: 0.8082 - val_loss: 0.5244 - val_accuracy: 0.7811 - lr: 0.0010\n",
            "Epoch 6/30\n",
            "173/173 [==============================] - ETA: 0s - loss: 0.3894 - accuracy: 0.8174\n",
            "Epoch 00006: val_accuracy did not improve from 0.80347\n",
            "173/173 [==============================] - 15s 86ms/step - loss: 0.3894 - accuracy: 0.8174 - val_loss: 0.6388 - val_accuracy: 0.7066 - lr: 0.0010\n",
            "Epoch 7/30\n",
            "173/173 [==============================] - ETA: 0s - loss: 0.3620 - accuracy: 0.8389\n",
            "Epoch 00007: ReduceLROnPlateau reducing learning rate to 0.00010000000474974513.\n",
            "\n",
            "Epoch 00007: val_accuracy did not improve from 0.80347\n",
            "173/173 [==============================] - 11s 66ms/step - loss: 0.3620 - accuracy: 0.8389 - val_loss: 0.6591 - val_accuracy: 0.6994 - lr: 0.0010\n",
            "Epoch 00007: early stopping\n"
          ]
        }
      ]
    },
    {
      "cell_type": "code",
      "source": [
        "# saving model 2\n",
        "\n",
        "model.save(\"model_glove.h5\", save_format=\"h5\")"
      ],
      "metadata": {
        "id": "Hc2J30F0jEdy"
      },
      "execution_count": null,
      "outputs": []
    },
    {
      "cell_type": "markdown",
      "source": [
        "We load the pre-trained GloVe embeddings and prepare an embedding matrix using the words in the tokenizer's vocabulary.\n",
        "The Embedding layer of the model is initialized with the pre-trained GloVe embeddings using the Constant initializer, and we set trainable=False to freeze the embeddings during training.\n",
        "The rest of the model architecture remains the same, and we use the Keras Tuner to search for the best hyperparameters while keeping the GloVe embeddings fixed."
      ],
      "metadata": {
        "id": "J-VSBiHhW6cf"
      }
    },
    {
      "cell_type": "code",
      "source": [
        "# A dependency of the preprocessing for BERT inputs\n",
        "!pip install -U \"tensorflow-text==2.13.*\""
      ],
      "metadata": {
        "id": "_3fy_LcTgdiD"
      },
      "execution_count": null,
      "outputs": []
    },
    {
      "cell_type": "code",
      "source": [
        "!pip install \"tf-models-official==2.13.*\""
      ],
      "metadata": {
        "id": "CnQYDF-Sgdex"
      },
      "execution_count": null,
      "outputs": []
    },
    {
      "cell_type": "code",
      "source": [
        "import os\n",
        "import shutil\n",
        "\n",
        "import tensorflow as tf\n",
        "import tensorflow_hub as hub\n",
        "import tensorflow_text as text\n",
        "from official.nlp import optimization  # to create AdamW optimizer\n",
        "\n",
        "import matplotlib.pyplot as plt\n",
        "\n",
        "tf.get_logger().setLevel('ERROR')"
      ],
      "metadata": {
        "id": "hYt4VY2TgnyZ"
      },
      "execution_count": 7,
      "outputs": []
    },
    {
      "cell_type": "code",
      "source": [
        "# Model 3\n",
        "\n",
        "# code based on https://www.tensorflow.org/text/tutorials/classify_text_with_bert\n",
        "\n",
        "tfhub_handle_encoder = 'https://tfhub.dev/tensorflow/small_bert/bert_en_uncased_L-4_H-128_A-2/1'\n",
        "tfhub_handle_preprocess = 'https://tfhub.dev/tensorflow/bert_en_uncased_preprocess/3'\n",
        "\n",
        "bert_preprocess_model = hub.KerasLayer(tfhub_handle_preprocess)\n",
        "bert_model = hub.KerasLayer(tfhub_handle_encoder)\n",
        "\n",
        "def build_classifier_model():\n",
        "    text_input = tf.keras.layers.Input(shape=(), dtype=tf.string, name='text')\n",
        "\n",
        "    preprocessing_layer = hub.KerasLayer(tfhub_handle_preprocess, name='preprocessing')\n",
        "\n",
        "    encoder_inputs = preprocessing_layer(text_input)\n",
        "    encoder = hub.KerasLayer(tfhub_handle_encoder, trainable=True, name='BERT_encoder')\n",
        "    outputs = encoder(encoder_inputs)\n",
        "\n",
        "    net = outputs['pooled_output']\n",
        "    net = tf.keras.layers.Dropout(0.1)(net)\n",
        "    net = tf.keras.layers.Dense(2, activation='softmax')(net)\n",
        "\n",
        "    return tf.keras.Model(text_input, net)\n",
        "\n",
        "classifier_model = build_classifier_model()\n",
        "bert_raw_result = classifier_model(tf.constant(list(X_train[0:2])))\n",
        "\n",
        "classifier_model.compile(optimizer = \"adam\",\n",
        "                         loss='categorical_crossentropy',\n",
        "                         metrics=['accuracy'])\n",
        "\n",
        "history = classifier_model.fit(X_train, y_train,\n",
        "                               validation_split=0.2, epochs=30,\n",
        "                               callbacks = [red_lr, mod_check, early_stop])"
      ],
      "metadata": {
        "id": "SmWC5tG0J_nK",
        "colab": {
          "base_uri": "https://localhost:8080/"
        },
        "outputId": "bb0531e2-8ec8-47e2-ada6-0097a8efcf3b"
      },
      "execution_count": 8,
      "outputs": [
        {
          "output_type": "stream",
          "name": "stdout",
          "text": [
            "Epoch 1/30\n",
            "173/173 [==============================] - ETA: 0s - loss: 0.7159 - accuracy: 0.5697\n",
            "Epoch 00001: val_accuracy improved from -inf to 0.14884, saving model to model_checkpoint.h5\n",
            "173/173 [==============================] - 276s 2s/step - loss: 0.7159 - accuracy: 0.5697 - val_loss: 1.2492 - val_accuracy: 0.1488 - lr: 0.0010\n",
            "Epoch 2/30\n",
            "173/173 [==============================] - ETA: 0s - loss: 0.6104 - accuracy: 0.6794\n",
            "Epoch 00002: val_accuracy improved from 0.14884 to 0.50506, saving model to model_checkpoint.h5\n",
            "173/173 [==============================] - 238s 1s/step - loss: 0.6104 - accuracy: 0.6794 - val_loss: 1.1283 - val_accuracy: 0.5051 - lr: 0.0010\n",
            "Epoch 3/30\n",
            "173/173 [==============================] - ETA: 0s - loss: 0.6524 - accuracy: 0.6432\n",
            "Epoch 00003: val_accuracy did not improve from 0.50506\n",
            "173/173 [==============================] - 253s 1s/step - loss: 0.6524 - accuracy: 0.6432 - val_loss: 0.7927 - val_accuracy: 0.1575 - lr: 0.0010\n",
            "Epoch 4/30\n",
            "173/173 [==============================] - ETA: 0s - loss: 0.6895 - accuracy: 0.5856\n",
            "Epoch 00004: val_accuracy did not improve from 0.50506\n",
            "173/173 [==============================] - 257s 1s/step - loss: 0.6895 - accuracy: 0.5856 - val_loss: 0.6872 - val_accuracy: 0.3678 - lr: 0.0010\n",
            "Epoch 5/30\n",
            "173/173 [==============================] - ETA: 0s - loss: 0.6631 - accuracy: 0.6293\n",
            "Epoch 00005: val_accuracy improved from 0.50506 to 0.82803, saving model to model_checkpoint.h5\n",
            "173/173 [==============================] - 232s 1s/step - loss: 0.6631 - accuracy: 0.6293 - val_loss: 0.5415 - val_accuracy: 0.8280 - lr: 0.0010\n",
            "Epoch 6/30\n",
            "173/173 [==============================] - ETA: 0s - loss: 0.6702 - accuracy: 0.6219\n",
            "Epoch 00006: val_accuracy improved from 0.82803 to 0.84682, saving model to model_checkpoint.h5\n",
            "173/173 [==============================] - 215s 1s/step - loss: 0.6702 - accuracy: 0.6219 - val_loss: 0.5296 - val_accuracy: 0.8468 - lr: 0.0010\n",
            "Epoch 7/30\n",
            "173/173 [==============================] - ETA: 0s - loss: 0.6823 - accuracy: 0.5887\n",
            "Epoch 00007: val_accuracy did not improve from 0.84682\n",
            "173/173 [==============================] - 223s 1s/step - loss: 0.6823 - accuracy: 0.5887 - val_loss: 0.8938 - val_accuracy: 0.1488 - lr: 0.0010\n",
            "Epoch 8/30\n",
            "173/173 [==============================] - ETA: 0s - loss: 0.6836 - accuracy: 0.5909\n",
            "Epoch 00008: val_accuracy did not improve from 0.84682\n",
            "173/173 [==============================] - 215s 1s/step - loss: 0.6836 - accuracy: 0.5909 - val_loss: 0.8621 - val_accuracy: 0.1488 - lr: 0.0010\n",
            "Epoch 9/30\n",
            "173/173 [==============================] - ETA: 0s - loss: 0.6839 - accuracy: 0.5891\n",
            "Epoch 00009: ReduceLROnPlateau reducing learning rate to 0.00010000000474974513.\n",
            "\n",
            "Epoch 00009: val_accuracy did not improve from 0.84682\n",
            "173/173 [==============================] - 217s 1s/step - loss: 0.6839 - accuracy: 0.5891 - val_loss: 0.9282 - val_accuracy: 0.1488 - lr: 0.0010\n",
            "Epoch 00009: early stopping\n"
          ]
        }
      ]
    },
    {
      "cell_type": "code",
      "source": [
        "# saving model 3\n",
        "\n",
        "classifier_model.save(\"model_bert.h5\", save_format=\"h5\")"
      ],
      "metadata": {
        "id": "J5-B_ellxJs-"
      },
      "execution_count": 10,
      "outputs": []
    },
    {
      "cell_type": "markdown",
      "source": [
        "Tabularize results from ALL your models in this notebook and compare performance [5 Pts]"
      ],
      "metadata": {
        "id": "E15c5GrbKT_D"
      }
    },
    {
      "cell_type": "code",
      "source": [
        "# copied from above epoch outputs\n",
        "\n",
        "metrics_df = pd.DataFrame({\n",
        "    'Model': ['mod1', 'mod2', 'tuner', 'conv','glove','bert'],\n",
        "    'Accuracy': [0.65101, 0.72399, 0.75361, 0.74711, 0.80347, 0.84682],\n",
        "    'Loss': [1.1529, 1.2366, 0.5703, 0.7456, 0.4863, 0.5296],\n",
        "    })\n",
        "\n",
        "print(metrics_df)"
      ],
      "metadata": {
        "id": "0hT8ALqSXzi3",
        "colab": {
          "base_uri": "https://localhost:8080/"
        },
        "outputId": "c1d87072-081e-4669-daff-bd91625bfc9c"
      },
      "execution_count": 35,
      "outputs": [
        {
          "output_type": "stream",
          "name": "stdout",
          "text": [
            "   Model  Accuracy    Loss\n",
            "0   mod1   0.65101  1.1529\n",
            "1   mod2   0.72399  1.2366\n",
            "2  tuner   0.75361  0.5703\n",
            "3   conv   0.74711  0.7456\n",
            "4  glove   0.80347  0.4863\n",
            "5   bert   0.84682  0.5296\n"
          ]
        }
      ]
    },
    {
      "cell_type": "markdown",
      "source": [
        "Results Discussion : Point out why specific models may have performed better than others. and discuss failures if any. [3 Pts]"
      ],
      "metadata": {
        "id": "-NH7R7sNLGLK"
      }
    },
    {
      "cell_type": "code",
      "source": [
        "# the table above shows a strong trend of accuracy improving as the model number\n",
        "  # increased. this makes sense, because as we continued training, our models\n",
        "  # became more comlpex, and, so, better able to understand and predict on the\n",
        "  # data. alongside accuracy, loss also mostly improves by decreasing. our best\n",
        "  # model was bert, but all the transfer models performed strongly."
      ],
      "metadata": {
        "id": "H8tdrtbDNY1n"
      },
      "execution_count": null,
      "outputs": []
    }
  ],
  "metadata": {
    "colab": {
      "provenance": [],
      "include_colab_link": true
    },
    "kernelspec": {
      "display_name": "Python 3 (ipykernel)",
      "language": "python",
      "name": "python3"
    },
    "language_info": {
      "codemirror_mode": {
        "name": "ipython",
        "version": 3
      },
      "file_extension": ".py",
      "mimetype": "text/x-python",
      "name": "python",
      "nbconvert_exporter": "python",
      "pygments_lexer": "ipython3",
      "version": "3.10.9"
    }
  },
  "nbformat": 4,
  "nbformat_minor": 0
}