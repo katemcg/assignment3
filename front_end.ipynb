{
  "nbformat": 4,
  "nbformat_minor": 0,
  "metadata": {
    "colab": {
      "provenance": [],
      "authorship_tag": "ABX9TyO2V1FTE6D1a9lsSCImc0ls"
    },
    "kernelspec": {
      "name": "python3",
      "display_name": "Python 3"
    },
    "language_info": {
      "name": "python"
    }
  },
  "cells": [
    {
      "cell_type": "code",
      "execution_count": null,
      "metadata": {
        "id": "eIUOr4RCXt2S"
      },
      "outputs": [],
      "source": [
        "import pandas as pd\n",
        "import tensorflow as tf\n",
        "from preprocess_text import preprocessor\n",
        "from predict_text import predict_sentiment\n",
        "from model_loader import download_model_from_drive, load_sentiment_model\n",
        "\n",
        "folder_id = ' ' # our google drive folder id\n",
        "model_name = input(\"Please choose a model between [\"\",\"\",\"\"]: \")\n",
        "dest_path = '/path/to/save/model.h5'\n",
        "download_model_from_drive(folder_id, model_name, dest_path)\n",
        "sentiment_model = load_sentiment_model(dest_path)\n",
        "\n",
        "# load test csv\n",
        "test_data = pd.read_csv(\"test_sample.csv\")\n",
        "test_reviews=test_data.review  # reviews to predict on\n",
        "\n",
        "# Preprocess images\n",
        "preprocessed_data = preprocessor(test_data)\n",
        "\n",
        "# Make predictions\n",
        "predictions = predict_sentiment(preprocessed_data, model_name)\n",
        "\n",
        "# Display predictions\n",
        "for test_data, prediction in zip(preprocessed_data, predictions):\n",
        "    print(f'Review: {test_data}, Prediction: {prediction}')"
      ]
    }
  ]
}