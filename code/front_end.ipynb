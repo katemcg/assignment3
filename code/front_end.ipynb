{
  "nbformat": 4,
  "nbformat_minor": 0,
  "metadata": {
    "colab": {
      "provenance": [],
      "authorship_tag": "ABX9TyOo9x8JCgoZRGQJ2txqDFqb"
    },
    "kernelspec": {
      "name": "python3",
      "display_name": "Python 3"
    },
    "language_info": {
      "name": "python"
    }
  },
  "cells": [
    {
      "cell_type": "code",
      "source": [
        "# pip install -r requirements.txt"
      ],
      "metadata": {
        "id": "a2fcC_UuZ7Kt"
      },
      "execution_count": null,
      "outputs": []
    },
    {
      "cell_type": "code",
      "execution_count": null,
      "metadata": {
        "id": "eIUOr4RCXt2S"
      },
      "outputs": [],
      "source": [
        "import pandas as pd\n",
        "import tensorflow as tf\n",
        "from preprocess_text import preprocessor\n",
        "from predict_text import predict_sentiment\n",
        "from model_loader import load_sentiment_model\n",
        "\n",
        "## USER-- choose a model between model_conv and model_glove and input it in the space below exactly as shown. eg. \"model_conv\"\n",
        "model_name = \"model_conv\" # INPUT HERE\n",
        "\n",
        "model_path = current_dirs_parent + '/models/' + model_name + '.h5'\n",
        "sentiment_model = load_sentiment_model(model_path)\n",
        "\n",
        "# load test csv\n",
        "test_data = pd.read_csv(current_dirs_parent + \"/data/test_sample.csv\")\n",
        "test_reviews = test_data.review  # Reviews to predict on\n",
        "\n",
        "# Preprocess images\n",
        "preprocessed_data = preprocessor(test_reviews)[0]\n",
        "\n",
        "# Make predictions\n",
        "predictions = predict_sentiment(preprocessed_data, sentiment_model)\n",
        "\n",
        "# Compare with ground truth sentiments\n",
        "ground_truth = test_data.sentiment\n",
        "\n",
        "df = pd.DataFrame({\n",
        "    'Review': test_reviews,\n",
        "    'Prediction': predictions,\n",
        "    'Ground Truth': ground_truth\n",
        "})\n",
        "\n",
        "print(df)"
      ]
    },
    {
      "cell_type": "code",
      "source": [
        "## confusion matrix?"
      ],
      "metadata": {
        "id": "B7iyh4uyZ2B4"
      },
      "execution_count": null,
      "outputs": []
    }
  ]
}