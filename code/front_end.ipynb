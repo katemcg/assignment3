{
  "nbformat": 4,
  "nbformat_minor": 0,
  "metadata": {
    "colab": {
      "provenance": [],
      "authorship_tag": "ABX9TyM9m4kIXioK72gy+ZznJcxA"
    },
    "kernelspec": {
      "name": "python3",
      "display_name": "Python 3"
    },
    "language_info": {
      "name": "python"
    }
  },
  "cells": [
    {
      "cell_type": "code",
      "execution_count": null,
      "metadata": {
        "id": "eIUOr4RCXt2S"
      },
      "outputs": [],
      "source": [
        "import pandas as pd\n",
        "import tensorflow as tf\n",
        "from preprocess_text import preprocessor\n",
        "from predict_text import predict_sentiment\n",
        "from model_loader import load_sentiment_model\n",
        "\n",
        "## USER-- choose a model between model_conv and model_glove and input it in the space below exactly as shown. eg. \"model_conv\"\n",
        "model_name = \"model_conv\"\n",
        "\n",
        "dest_path = current_dirs_parent + '/models/' + model_name + '.h5'\n",
        "sentiment_model = load_sentiment_model(dest_path)\n",
        "\n",
        "# load test csv\n",
        "test_data = pd.read_csv(\"test_sample.csv\")\n",
        "test_reviews = test_data.review  # Reviews to predict on\n",
        "\n",
        "# Preprocess images\n",
        "preprocessed_data = preprocessor(test_reviews)\n",
        "\n",
        "# Make predictions\n",
        "predictions = predict_sentiment(preprocessed_data, model_name)\n",
        "\n",
        "# Display predictions\n",
        "#for test_data, prediction in zip(preprocessed_data, predictions):\n",
        "#    print(f'Review: {test_data}, Prediction: {prediction}')\n",
        "\n",
        "# Compare with ground truth sentiments\n",
        "ground_truth = test_data.sentiment\n",
        "\n",
        "for test_data, prediction, ground_truth in zip(preprocessed_data, predictions, ground_truth):\n",
        "    print(f'Review: {test_data}, Prediction: {prediction}, Ground truth sentiment: {ground_truth}')"
      ]
    }
  ]
}